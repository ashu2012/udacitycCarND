{
 "cells": [
  {
   "cell_type": "markdown",
   "metadata": {},
   "source": [
    "# Self-Driving Car Engineer Nanodegree\n",
    "\n",
    "## Deep Learning\n",
    "\n",
    "## Project: Build a Traffic Sign Recognition Classifier\n",
    "\n",
    "In this notebook, a template is provided for you to implement your functionality in stages, which is required to successfully complete this project. If additional code is required that cannot be included in the notebook, be sure that the Python code is successfully imported and included in your submission if necessary. \n",
    "\n",
    "> **Note**: Once you have completed all of the code implementations, you need to finalize your work by exporting the iPython Notebook as an HTML document. Before exporting the notebook to html, all of the code cells need to have been run so that reviewers can see the final implementation and output. You can then export the notebook by using the menu above and navigating to  \\n\",\n",
    "    \"**File -> Download as -> HTML (.html)**. Include the finished document along with this notebook as your submission. \n",
    "\n",
    "In addition to implementing code, there is a writeup to complete. The writeup should be completed in a separate file, which can be either a markdown file or a pdf document. There is a [write up template](https://github.com/udacity/CarND-Traffic-Sign-Classifier-Project/blob/master/writeup_template.md) that can be used to guide the writing process. Completing the code template and writeup template will cover all of the [rubric points](https://review.udacity.com/#!/rubrics/481/view) for this project.\n",
    "\n",
    "The [rubric](https://review.udacity.com/#!/rubrics/481/view) contains \"Stand Out Suggestions\" for enhancing the project beyond the minimum requirements. The stand out suggestions are optional. If you decide to pursue the \"stand out suggestions\", you can include the code in this Ipython notebook and also discuss the results in the writeup file.\n",
    "\n",
    "\n",
    ">**Note:** Code and Markdown cells can be executed using the **Shift + Enter** keyboard shortcut. In addition, Markdown cells can be edited by typically double-clicking the cell to enter edit mode."
   ]
  },
  {
   "cell_type": "markdown",
   "metadata": {},
   "source": [
    "---\n",
    "## Step 0: Load The Data"
   ]
  },
  {
   "cell_type": "code",
   "execution_count": 1,
   "metadata": {
    "collapsed": true
   },
   "outputs": [],
   "source": [
    "import numpy as np\n"
   ]
  },
  {
   "cell_type": "code",
   "execution_count": 2,
   "metadata": {
    "collapsed": false
   },
   "outputs": [],
   "source": [
    "# Load pickled data\n",
    "import pickle\n",
    "\n",
    "# TODO: Fill this in based on where you saved the training and testing data\n",
    "\n",
    "training_file = 'traffic-signs-data/train.p'\n",
    "validation_file='traffic-signs-data/valid.p'\n",
    "testing_file = 'traffic-signs-data/test.p'\n",
    "\n",
    "with open(training_file, mode='rb') as f:\n",
    "    train = pickle.load(f)\n",
    "with open(validation_file, mode='rb') as f:\n",
    "    valid = pickle.load(f)\n",
    "with open(testing_file, mode='rb') as f:\n",
    "    test = pickle.load(f)\n",
    "    \n",
    "X_train, y_train = train['features'], train['labels']\n",
    "X_valid, y_valid = valid['features'], valid['labels']\n",
    "X_test, y_test = test['features'], test['labels']"
   ]
  },
  {
   "cell_type": "markdown",
   "metadata": {},
   "source": [
    "---\n",
    "\n",
    "## Step 1: Dataset Summary & Exploration\n",
    "\n",
    "The pickled data is a dictionary with 4 key/value pairs:\n",
    "\n",
    "- `'features'` is a 4D array containing raw pixel data of the traffic sign images, (num examples, width, height, channels).\n",
    "- `'labels'` is a 1D array containing the label/class id of the traffic sign. The file `signnames.csv` contains id -> name mappings for each id.\n",
    "- `'sizes'` is a list containing tuples, (width, height) representing the the original width and height the image.\n",
    "- `'coords'` is a list containing tuples, (x1, y1, x2, y2) representing coordinates of a bounding box around the sign in the image. **THESE COORDINATES ASSUME THE ORIGINAL IMAGE. THE PICKLED DATA CONTAINS RESIZED VERSIONS (32 by 32) OF THESE IMAGES**\n",
    "\n",
    "Complete the basic data summary below. Use python, numpy and/or pandas methods to calculate the data summary rather than hard coding the results. For example, the [pandas shape method](http://pandas.pydata.org/pandas-docs/stable/generated/pandas.DataFrame.shape.html) might be useful for calculating some of the summary results. "
   ]
  },
  {
   "cell_type": "markdown",
   "metadata": {},
   "source": [
    "### Provide a Basic Summary of the Data Set Using Python, Numpy and/or Pandas"
   ]
  },
  {
   "cell_type": "code",
   "execution_count": 3,
   "metadata": {
    "collapsed": false
   },
   "outputs": [
    {
     "data": {
      "text/plain": [
       "(34799, 32, 32, 3)"
      ]
     },
     "execution_count": 3,
     "metadata": {},
     "output_type": "execute_result"
    }
   ],
   "source": [
    "X_train.shape"
   ]
  },
  {
   "cell_type": "code",
   "execution_count": 4,
   "metadata": {
    "collapsed": false
   },
   "outputs": [
    {
     "data": {
      "text/plain": [
       "(32, 32, 3)"
      ]
     },
     "execution_count": 4,
     "metadata": {},
     "output_type": "execute_result"
    }
   ],
   "source": [
    "X_test.shape[1:]"
   ]
  },
  {
   "cell_type": "code",
   "execution_count": 5,
   "metadata": {
    "collapsed": false
   },
   "outputs": [
    {
     "data": {
      "text/plain": [
       "(34799,)"
      ]
     },
     "execution_count": 5,
     "metadata": {},
     "output_type": "execute_result"
    }
   ],
   "source": [
    "y_train.shape"
   ]
  },
  {
   "cell_type": "code",
   "execution_count": 6,
   "metadata": {
    "collapsed": false
   },
   "outputs": [
    {
     "data": {
      "text/plain": [
       "numpy.ndarray"
      ]
     },
     "execution_count": 6,
     "metadata": {},
     "output_type": "execute_result"
    }
   ],
   "source": [
    "type(y_train)"
   ]
  },
  {
   "cell_type": "code",
   "execution_count": 7,
   "metadata": {
    "collapsed": false
   },
   "outputs": [
    {
     "data": {
      "text/plain": [
       "43"
      ]
     },
     "execution_count": 7,
     "metadata": {},
     "output_type": "execute_result"
    }
   ],
   "source": [
    "len(np.unique(y_train))"
   ]
  },
  {
   "cell_type": "code",
   "execution_count": 8,
   "metadata": {
    "collapsed": false
   },
   "outputs": [
    {
     "data": {
      "text/plain": [
       "array([ 0,  1,  2,  3,  4,  5,  6,  7,  8,  9, 10, 11, 12, 13, 14, 15, 16,\n",
       "       17, 18, 19, 20, 21, 22, 23, 24, 25, 26, 27, 28, 29, 30, 31, 32, 33,\n",
       "       34, 35, 36, 37, 38, 39, 40, 41, 42], dtype=uint8)"
      ]
     },
     "execution_count": 8,
     "metadata": {},
     "output_type": "execute_result"
    }
   ],
   "source": [
    "np.unique(y_test)"
   ]
  },
  {
   "cell_type": "code",
   "execution_count": 9,
   "metadata": {
    "collapsed": false
   },
   "outputs": [
    {
     "name": "stdout",
     "output_type": "stream",
     "text": [
      "Number of training examples = 34799\n",
      "Number of testing examples = 12630\n",
      "Image data shape = (32, 32, 3)\n",
      "Number of classes = 43\n"
     ]
    }
   ],
   "source": [
    "### Replace each question mark with the appropriate value. \n",
    "### Use python, pandas or numpy methods rather than hard coding the results\n",
    "\n",
    "# TODO: Number of training examples\n",
    "n_train = X_train.shape[0]\n",
    "\n",
    "# TODO: Number of testing examples.\n",
    "n_test = X_test.shape[0]\n",
    "\n",
    "# TODO: What's the shape of an traffic sign image?\n",
    "image_shape = X_test.shape[1:]\n",
    "\n",
    "# TODO: How many unique classes/labels there are in the dataset.\n",
    "n_classes = len(np.unique(y_train))\n",
    "\n",
    "print(\"Number of training examples =\", n_train)\n",
    "print(\"Number of testing examples =\", n_test)\n",
    "print(\"Image data shape =\", image_shape)\n",
    "print(\"Number of classes =\", n_classes)"
   ]
  },
  {
   "cell_type": "markdown",
   "metadata": {},
   "source": [
    "### Include an exploratory visualization of the dataset"
   ]
  },
  {
   "cell_type": "markdown",
   "metadata": {},
   "source": [
    "Visualize the German Traffic Signs Dataset using the pickled file(s). This is open ended, suggestions include: plotting traffic sign images, plotting the count of each sign, etc.\n",
    "\n",
    "The [Matplotlib](http://matplotlib.org/) [examples](http://matplotlib.org/examples/index.html) and [gallery](http://matplotlib.org/gallery.html) pages are a great resource for doing visualizations in Python.\n",
    "\n",
    "**NOTE:** It's recommended you start with something simple first. If you wish to do more, come back to it after you've completed the rest of the sections."
   ]
  },
  {
   "cell_type": "code",
   "execution_count": 10,
   "metadata": {
    "collapsed": true
   },
   "outputs": [],
   "source": [
    "### Data exploration visualization code goes here.\n",
    "### Feel free to use as many code cells as needed.\n",
    "import matplotlib.pyplot as plt\n",
    "# Visualizations will be shown in the notebook.\n",
    "%matplotlib inline"
   ]
  },
  {
   "cell_type": "markdown",
   "metadata": {},
   "source": [
    "----\n",
    "\n",
    "## Step 2: Design and Test a Model Architecture\n",
    "\n",
    "Design and implement a deep learning model that learns to recognize traffic signs. Train and test your model on the [German Traffic Sign Dataset](http://benchmark.ini.rub.de/?section=gtsrb&subsection=dataset).\n",
    "\n",
    "There are various aspects to consider when thinking about this problem:\n",
    "\n",
    "- Neural network architecture\n",
    "- Play around preprocessing techniques (normalization, rgb to grayscale, etc)\n",
    "- Number of examples per label (some have more than others).\n",
    "- Generate fake data.\n",
    "\n",
    "Here is an example of a [published baseline model on this problem](http://yann.lecun.com/exdb/publis/pdf/sermanet-ijcnn-11.pdf). It's not required to be familiar with the approach used in the paper but, it's good practice to try to read papers like these.\n",
    "\n",
    "**NOTE:** The LeNet-5 implementation shown in the [classroom](https://classroom.udacity.com/nanodegrees/nd013/parts/fbf77062-5703-404e-b60c-95b78b2f3f9e/modules/6df7ae49-c61c-4bb2-a23e-6527e69209ec/lessons/601ae704-1035-4287-8b11-e2c2716217ad/concepts/d4aca031-508f-4e0b-b493-e7b706120f81) at the end of the CNN lesson is a solid starting point. You'll have to change the number of classes and possibly the preprocessing, but aside from that it's plug and play!"
   ]
  },
  {
   "cell_type": "markdown",
   "metadata": {},
   "source": [
    "### Pre-process the Data Set (normalization, grayscale, etc.)"
   ]
  },
  {
   "cell_type": "markdown",
   "metadata": {},
   "source": [
    "Use the code cell (or multiple code cells, if necessary) to implement the first step of your project."
   ]
  },
  {
   "cell_type": "code",
   "execution_count": 11,
   "metadata": {
    "collapsed": true
   },
   "outputs": [],
   "source": [
    "### Preprocess the data here. Preprocessing steps could include normalization, converting to grayscale, etc.\n",
    "### Feel free to use as many code cells as needed."
   ]
  },
  {
   "cell_type": "code",
   "execution_count": 12,
   "metadata": {
    "collapsed": false
   },
   "outputs": [
    {
     "name": "stderr",
     "output_type": "stream",
     "text": [
      "Using TensorFlow backend.\n"
     ]
    }
   ],
   "source": [
    "from sklearn.preprocessing import normalize\n",
    "import cv2\n",
    "import tensorflow as tf\n",
    "sess = tf.Session()\n",
    "\n",
    "from keras import backend as K\n",
    "K.set_session(sess)"
   ]
  },
  {
   "cell_type": "code",
   "execution_count": 13,
   "metadata": {
    "collapsed": false
   },
   "outputs": [
    {
     "data": {
      "image/png": "[encoded data removed]",
      "text/plain": [
       "<matplotlib.figure.Figure at 0x7f793ca37a58>"
      ]
     },
     "metadata": {},
     "output_type": "display_data"
    }
   ],
   "source": [
    "#image = cv2.imread(X_test[0])\n",
    "BGRMatrix = cv2.cvtColor( X_test[0], cv2.COLOR_RGB2BGR, 3)\n",
    "image_yuv = cv2.cvtColor(X_test[0],cv2.COLOR_RGB2YUV,3)\n",
    "image_hsv = cv2.cvtColor(X_test[0],cv2.COLOR_RGB2HSV,3)\n",
    "image_gray = cv2.cvtColor(X_test[0],cv2.COLOR_RGB2GRAY,3)\n",
    "b,g,r = cv2.split(X_test[0])\n",
    "#b = X_test[0][:,:,0]\n",
    "#g = X_test[0][:,:,1]\n",
    "#r = X_test[0][:,:,2]\n",
    "\"\"\"\n",
    "cv2.imwrite(\"ori.png\", X_test[0])\n",
    "cv2.imwrite(\"ori-bgr.png\", BGRMatrix)\n",
    "cv2.imwrite(\"ori-yuv.png\", image_yuv)\n",
    "cv2.imwrite(\"ori-b.png\", b)\n",
    "cv2.imwrite(\"ori-g.png\", g)\n",
    "cv2.imwrite(\"ori-r.png\", r)\n",
    "\"\"\"\n",
    "\n",
    "plt.subplot(321),plt.imshow(X_test[0],'gray'),plt.title('ORIGINAL')\n",
    "plt.subplot(322),plt.imshow(BGRMatrix,'gray'),plt.title('bgr')\n",
    "plt.subplot(323),plt.imshow(image_yuv,'gray'),plt.title('yuv')\n",
    "plt.subplot(324),plt.imshow(image_hsv,'gray'),plt.title('hsv')\n",
    "plt.subplot(325),plt.imshow(image_gray,'gray'),plt.title('gray')\n",
    "\n",
    "plt.show()"
   ]
  },
  {
   "cell_type": "code",
   "execution_count": 14,
   "metadata": {
    "collapsed": true
   },
   "outputs": [],
   "source": [
    "def normalize_grayscale(image_data):\n",
    "    \"\"\"\n",
    "    Normalize the image data with Min-Max scaling to a range of [0.1, 0.9]\n",
    "    :param image_data: The image data to be normalized\n",
    "    :return: Normalized image data\n",
    "    \"\"\"\n",
    "    img_max = np.max(image_data)\n",
    "    img_min = np.min(image_data)\n",
    "    a = -0.5\n",
    "    b = 0.5\n",
    "\n",
    "    img_normed = a + (b-a)*(image_data - img_min)/(img_max - img_min)\n",
    "    return img_normed\n",
    "\n",
    "def normalize_color(image_data):\n",
    "    \"\"\"\n",
    "    Normalize the image data on per channel basis. \n",
    "    \"\"\"\n",
    "    img_normed_color = np.zeros_like(image_data, dtype=float)\n",
    "    #print(image_data.shape[2])\n",
    "    for ch in range(image_data.shape[2]):\n",
    "        tmp = normalize_grayscale(image_data[:,:,ch])\n",
    "        img_normed_color[:,:,ch] = tmp\n",
    "    return img_normed_color\n",
    "\n",
    "#pixelwise mean and image wise variation\n",
    "def datsetmean(image_data):\n",
    "    image_shape= image_data.shape[1:]\n",
    "    print(image_shape)\n",
    "    \n"
   ]
  },
  {
   "cell_type": "markdown",
   "metadata": {},
   "source": [
    "##### https://www.quora.com/What-are-some-ways-of-pre-procesing-images-before-applying-convolutional-neural-networks-for-the-task-of-image-classification\n",
    "#### https://stats.stackexchange.com/questions/185853/why-do-we-need-to-normalize-the-images-before-we-put-them-into-cnn\n",
    "##### https://stats.stackexchange.com/questions/211436/why-do-we-normalize-images-by-subtracting-the-datasets-image-mean-and-not-the-c\n",
    "better way from research paper:-\n",
    "The first pass, you will compute the mean pixel values of each channel, and the variance over the entire set of pixels in a channel. When you are finished, you should have 3075 values: one mean value per pixel per channel (32*32*3=3072), and one variance per channel (3).\n",
    "\n",
    "On the second pass you will modify the images by taking the subtracting from each pixel the mean you found in the first pass, and dividing by the standard deviation from the first pass.\n",
    "\n",
    "Let μr,i,jμr,i,j be the mean value of the red channel at the i,ji,j-th pixel, and let σ2rσr2 be the variance of the red channel over all pixels in all images. Then the new value corresponding to the red channel of the i,ji,j-th pixel in the kk-th image ri,j,kri,j,k becomes"
   ]
  },
  {
   "cell_type": "code",
   "execution_count": 15,
   "metadata": {
    "collapsed": false
   },
   "outputs": [
    {
     "data": {
      "text/plain": [
       "<matplotlib.image.AxesImage at 0x7f7934fdabe0>"
      ]
     },
     "execution_count": 15,
     "metadata": {},
     "output_type": "execute_result"
    },
    {
     "data": {
      "image/png": "[encoded data removed]",
      "text/plain": [
       "<matplotlib.figure.Figure at 0x7f793c885048>"
      ]
     },
     "metadata": {},
     "output_type": "display_data"
    }
   ],
   "source": [
    "plt.imshow(X_train[0])"
   ]
  },
  {
   "cell_type": "code",
   "execution_count": 16,
   "metadata": {
    "collapsed": false
   },
   "outputs": [
    {
     "data": {
      "image/png": "[encoded data removed]",
      "text/plain": [
       "<matplotlib.figure.Figure at 0x7f793c8a1eb8>"
      ]
     },
     "metadata": {},
     "output_type": "display_data"
    }
   ],
   "source": [
    "X_train.shape\n",
    "f, axarr = plt.subplots(3,3)\n",
    "image_starIdx=809\n",
    "for i  in range(0,3):\n",
    "    \n",
    "        #rint(y_train[i]) \n",
    "        #plt.subplots(2, 2)\n",
    "    image_gray = cv2.cvtColor(X_train[image_starIdx+i],cv2.COLOR_RGB2GRAY,3)\n",
    "    axarr[i,0].imshow(X_train[image_starIdx+i]),plt.title('ORIGINAL')\n",
    "    axarr[i,1].imshow(normalize_color(X_train[image_starIdx+i])),plt.title('ORIGINAL-normalized')\n",
    "    axarr[i,2].imshow(normalize_grayscale(image_gray),'gray'),plt.title('gray-normalized')\n",
    "    #break\n",
    "    \n",
    "plt.show()"
   ]
  },
  {
   "cell_type": "code",
   "execution_count": 17,
   "metadata": {
    "collapsed": true
   },
   "outputs": [],
   "source": [
    "from keras.preprocessing.image import ImageDataGenerator"
   ]
  },
  {
   "cell_type": "code",
   "execution_count": 18,
   "metadata": {
    "collapsed": true
   },
   "outputs": [],
   "source": [
    "# define data preparation using augmentation\n",
    "datagen = ImageDataGenerator(featurewise_center=True,\n",
    "    featurewise_std_normalization=True,\n",
    "    rotation_range=20,\n",
    "    width_shift_range=0,\n",
    "    height_shift_range=0,\n",
    "    horizontal_flip=True )\n",
    "\n",
    "\n",
    "#datagen = ImageDataGenerator(rotation_range=90)\n",
    "# fit parameters from data\n",
    "datagen.fit(X_train.astype('float32'))"
   ]
  },
  {
   "cell_type": "code",
   "execution_count": 19,
   "metadata": {
    "collapsed": false
   },
   "outputs": [
    {
     "data": {
      "image/png": "[encoded data removed]",
      "text/plain": [
       "<matplotlib.figure.Figure at 0x7f7934e68ac8>"
      ]
     },
     "metadata": {},
     "output_type": "display_data"
    },
    {
     "data": {
      "image/png": "[encoded data removed]",
      "text/plain": [
       "<matplotlib.figure.Figure at 0x7f793c86a668>"
      ]
     },
     "metadata": {},
     "output_type": "display_data"
    },
    {
     "data": {
      "image/png": "[encoded data removed]",
      "text/plain": [
       "<matplotlib.figure.Figure at 0x7f7934feff28>"
      ]
     },
     "metadata": {},
     "output_type": "display_data"
    }
   ],
   "source": [
    "count = 1\n",
    "for X_batch, y_batch in datagen.flow(X_train, y_train, batch_size=3,shuffle=False, save_to_dir='augmentedImages', save_prefix='aug', save_format='jpeg'):\n",
    "    # create a grid of 3x3 images\n",
    "    for i in range(0, 3):\n",
    "        plt.subplot(330 + 1 + i)\n",
    "        plt.imshow(X_batch[i].reshape(32, 32, 3))\n",
    "    plt.show()\n",
    "    count = count+1\n",
    "    if count > 3 :\n",
    "        break\n",
    "    # show the plot\n",
    "    "
   ]
  },
  {
   "cell_type": "code",
   "execution_count": 20,
   "metadata": {
    "collapsed": false
   },
   "outputs": [
    {
     "name": "stderr",
     "output_type": "stream",
     "text": [
      "/media/ashutosh/unix-extra1/anaconda3/envs/carnd-term1/lib/python3.5/site-packages/sklearn/cross_validation.py:44: DeprecationWarning: This module was deprecated in version 0.18 in favor of the model_selection module into which all the refactored classes and functions are moved. Also note that the interface of the new CV iterators are different from that of this module. This module will be removed in 0.20.\n",
      "  \"This module will be removed in 0.20.\", DeprecationWarning)\n"
     ]
    }
   ],
   "source": [
    "import keras\n",
    "from keras.models import Sequential\n",
    "from keras.layers import MaxPooling2D\n",
    "from keras.layers import AveragePooling2D\n",
    "from keras.layers import Convolution2D\n",
    "from keras.layers import Dense, Dropout, Activation, Flatten\n",
    "from keras.utils import np_utils\n",
    "import random\n",
    "from sklearn.cross_validation import train_test_split\n",
    "from keras.models import model_from_json"
   ]
  },
  {
   "cell_type": "code",
   "execution_count": 21,
   "metadata": {
    "collapsed": false
   },
   "outputs": [
    {
     "name": "stdout",
     "output_type": "stream",
     "text": [
      "1.1.0\n"
     ]
    }
   ],
   "source": [
    "if hasattr(tf.contrib, 'ctc'):\n",
    "  ctc = tf.contrib.ctc  # old version\n",
    "else:\n",
    "  ctc = tf.nn  # New official version.\n",
    "\n",
    "print(tf.__version__)"
   ]
  },
  {
   "cell_type": "markdown",
   "metadata": {},
   "source": [
    "### Model Architecture"
   ]
  },
  {
   "cell_type": "markdown",
   "metadata": {},
   "source": [
    "<figure>\n",
    " <img src=\"convnet.png\" width=\"380\" alt=\"Combined Image\" />\n",
    " <figcaption>\n",
    " <p></p> \n",
    " <p style=\"text-align: center;\"> convnet</p> \n",
    " </figcaption>\n",
    "</figure>\n",
    " <p></p> "
   ]
  },
  {
   "cell_type": "code",
   "execution_count": 22,
   "metadata": {
    "collapsed": false
   },
   "outputs": [
    {
     "name": "stdout",
     "output_type": "stream",
     "text": [
      "____________________________________________________________________________________________________\n",
      "Layer (type)                     Output Shape          Param #     Connected to                     \n",
      "====================================================================================================\n",
      "convolution2d_1 (Convolution2D)  (None, 25, 25, 64)    12352       convolution2d_input_1[0][0]      \n",
      "____________________________________________________________________________________________________\n",
      "activation_1 (Activation)        (None, 25, 25, 64)    0           convolution2d_1[0][0]            \n",
      "____________________________________________________________________________________________________\n",
      "averagepooling2d_1 (AveragePooli (None, 12, 12, 64)    0           activation_1[0][0]               \n",
      "____________________________________________________________________________________________________\n",
      "convolution2d_2 (Convolution2D)  (None, 5, 5, 64)      262208      averagepooling2d_1[0][0]         \n",
      "____________________________________________________________________________________________________\n",
      "activation_2 (Activation)        (None, 5, 5, 64)      0           convolution2d_2[0][0]            \n",
      "____________________________________________________________________________________________________\n",
      "averagepooling2d_2 (AveragePooli (None, 2, 2, 64)      0           activation_2[0][0]               \n",
      "____________________________________________________________________________________________________\n",
      "flatten_1 (Flatten)              (None, 256)           0           averagepooling2d_2[0][0]         \n",
      "____________________________________________________________________________________________________\n",
      "dense_1 (Dense)                  (None, 500)           128500      flatten_1[0][0]                  \n",
      "____________________________________________________________________________________________________\n",
      "dropout_1 (Dropout)              (None, 500)           0           dense_1[0][0]                    \n",
      "____________________________________________________________________________________________________\n",
      "activation_3 (Activation)        (None, 500)           0           dropout_1[0][0]                  \n",
      "____________________________________________________________________________________________________\n",
      "dense_2 (Dense)                  (None, 43)            21543       activation_3[0][0]               \n",
      "____________________________________________________________________________________________________\n",
      "activation_4 (Activation)        (None, 43)            0           dense_2[0][0]                    \n",
      "====================================================================================================\n",
      "Total params: 424,603\n",
      "Trainable params: 424,603\n",
      "Non-trainable params: 0\n",
      "____________________________________________________________________________________________________\n"
     ]
    }
   ],
   "source": [
    "### Define your architecture here.\n",
    "### Feel free to use as many code cells as needed.\n",
    "\n",
    "model = Sequential()\n",
    "\n",
    "\n",
    "\n",
    "# first set of CONV => RELU => POOL\n",
    "model.add(Convolution2D(64, 8, 8,input_shape=( 32, 32,3), border_mode=\"valid\"))\n",
    "model.add(Activation(\"relu\"))\n",
    "model.add(AveragePooling2D(pool_size=(2,2), strides=None, border_mode='valid' ))\n",
    "\n",
    "# second set of CONV => RELU => POOL\n",
    "model.add(Convolution2D(64, 8, 8, border_mode=\"valid\"))\n",
    "model.add(Activation(\"relu\"))\n",
    "model.add(AveragePooling2D(pool_size=(2,2), strides=None, border_mode='valid' ))\n",
    "\n",
    "# set of FC => RELU layers\n",
    "model.add(Flatten())\n",
    "model.add(Dense(500))\n",
    "model.add(Dropout(0.2))\n",
    "model.add(Activation(\"relu\"))\n",
    "\n",
    "# softmax classifier\n",
    "model.add(Dense(43))\n",
    "model.add(Activation(\"softmax\"))\n",
    "\n",
    "model.summary()\n",
    "\n"
   ]
  },
  {
   "cell_type": "code",
   "execution_count": 23,
   "metadata": {
    "collapsed": true
   },
   "outputs": [],
   "source": [
    "model.compile(optimizer='adam', loss='categorical_crossentropy', metrics=['accuracy'])"
   ]
  },
  {
   "cell_type": "markdown",
   "metadata": {},
   "source": [
    "### Train, Validate and Test the Model"
   ]
  },
  {
   "cell_type": "markdown",
   "metadata": {},
   "source": [
    "A validation set can be used to assess how well the model is performing. A low accuracy on the training and validation\n",
    "sets imply underfitting. A high accuracy on the training set but low accuracy on the validation set implies overfitting."
   ]
  },
  {
   "cell_type": "code",
   "execution_count": 24,
   "metadata": {
    "collapsed": true
   },
   "outputs": [],
   "source": [
    "\n",
    "\n",
    "seed =7\n",
    "seed =random.seed(8675309)\n",
    " \n",
    "# Convert class vectors to binary class matrices.\n",
    "y_train = np_utils.to_categorical(y_train, 43)\n",
    "y_test =np_utils.to_categorical(y_test, 43)\n",
    "y_valid =np_utils.to_categorical(y_valid, 43)\n",
    "# print statistics about the dataset\n",
    "\n",
    "X_train = X_train.astype('float32')\n",
    "X_test = X_test.astype('float32')\n",
    "X_valid = X_valid.astype('float32')\n",
    "X_train /= 255\n",
    "X_test /= 255\n",
    "X_valid/=255\n",
    "#split into 67% for train and 33% for test\n",
    "#X_train, X_validation, y_train, y_validation = train_test_split(X_train, y_train, test_size=0.33, random_state=seed)\n"
   ]
  },
  {
   "cell_type": "code",
   "execution_count": null,
   "metadata": {
    "collapsed": false
   },
   "outputs": [
    {
     "name": "stdout",
     "output_type": "stream",
     "text": [
      "Not using data augmentation.\n",
      "Train on 34799 samples, validate on 4410 samples\n",
      "Epoch 1/100\n",
      "48s - loss: 0.1472 - acc: 0.9628 - val_loss: 0.3973 - val_acc: 0.8898\n",
      "Epoch 2/100\n",
      "49s - loss: 0.1375 - acc: 0.9656 - val_loss: 0.3701 - val_acc: 0.8993\n",
      "Epoch 3/100\n",
      "49s - loss: 0.1328 - acc: 0.9667 - val_loss: 0.3846 - val_acc: 0.9016\n",
      "Epoch 4/100\n",
      "52s - loss: 0.1230 - acc: 0.9701 - val_loss: 0.3788 - val_acc: 0.8977\n",
      "Epoch 5/100\n",
      "49s - loss: 0.1151 - acc: 0.9718 - val_loss: 0.3861 - val_acc: 0.8980\n",
      "Epoch 6/100\n",
      "48s - loss: 0.1118 - acc: 0.9723 - val_loss: 0.3667 - val_acc: 0.9000\n",
      "Epoch 7/100\n",
      "48s - loss: 0.1037 - acc: 0.9740 - val_loss: 0.3571 - val_acc: 0.9032\n",
      "Epoch 8/100\n",
      "51s - loss: 0.0988 - acc: 0.9752 - val_loss: 0.3862 - val_acc: 0.8955\n",
      "Epoch 9/100\n",
      "50s - loss: 0.0946 - acc: 0.9764 - val_loss: 0.3439 - val_acc: 0.9086\n",
      "Epoch 10/100\n",
      "50s - loss: 0.0909 - acc: 0.9771 - val_loss: 0.4057 - val_acc: 0.8941\n",
      "Epoch 11/100\n",
      "57s - loss: 0.0897 - acc: 0.9780 - val_loss: 0.3727 - val_acc: 0.9032\n",
      "Epoch 12/100\n",
      "51s - loss: 0.0805 - acc: 0.9806 - val_loss: 0.3603 - val_acc: 0.9075\n",
      "Epoch 13/100\n",
      "50s - loss: 0.0754 - acc: 0.9821 - val_loss: 0.3607 - val_acc: 0.9070\n",
      "Epoch 14/100\n",
      "54s - loss: 0.0739 - acc: 0.9826 - val_loss: 0.3453 - val_acc: 0.9118\n",
      "Epoch 15/100\n",
      "53s - loss: 0.0678 - acc: 0.9839 - val_loss: 0.3620 - val_acc: 0.9084\n",
      "Epoch 16/100\n",
      "52s - loss: 0.0658 - acc: 0.9841 - val_loss: 0.3700 - val_acc: 0.9032\n",
      "Epoch 17/100\n",
      "52s - loss: 0.0629 - acc: 0.9843 - val_loss: 0.3554 - val_acc: 0.9102\n",
      "Epoch 18/100\n",
      "57s - loss: 0.0604 - acc: 0.9856 - val_loss: 0.3379 - val_acc: 0.9156\n",
      "Epoch 19/100\n",
      "56s - loss: 0.0578 - acc: 0.9868 - val_loss: 0.3611 - val_acc: 0.9122\n",
      "Epoch 20/100\n",
      "52s - loss: 0.0560 - acc: 0.9870 - val_loss: 0.3524 - val_acc: 0.9120\n",
      "Epoch 21/100\n",
      "51s - loss: 0.0534 - acc: 0.9866 - val_loss: 0.3408 - val_acc: 0.9159\n",
      "Epoch 22/100\n",
      "52s - loss: 0.0502 - acc: 0.9882 - val_loss: 0.3511 - val_acc: 0.9168\n",
      "Epoch 23/100\n",
      "54s - loss: 0.0480 - acc: 0.9883 - val_loss: 0.3424 - val_acc: 0.9154\n",
      "Epoch 24/100\n",
      "52s - loss: 0.0474 - acc: 0.9888 - val_loss: 0.3424 - val_acc: 0.9168\n",
      "Epoch 25/100\n",
      "51s - loss: 0.0454 - acc: 0.9890 - val_loss: 0.3320 - val_acc: 0.9181\n",
      "Epoch 26/100\n",
      "49s - loss: 0.0433 - acc: 0.9895 - val_loss: 0.3296 - val_acc: 0.9172\n",
      "Epoch 27/100\n",
      "49s - loss: 0.0418 - acc: 0.9902 - val_loss: 0.3512 - val_acc: 0.9184\n",
      "Epoch 28/100\n",
      "47s - loss: 0.0413 - acc: 0.9901 - val_loss: 0.3492 - val_acc: 0.9177\n",
      "Epoch 29/100\n",
      "48s - loss: 0.0368 - acc: 0.9912 - val_loss: 0.3487 - val_acc: 0.9193\n",
      "Epoch 30/100\n",
      "50s - loss: 0.0387 - acc: 0.9906 - val_loss: 0.3391 - val_acc: 0.9190\n",
      "Epoch 31/100\n",
      "52s - loss: 0.0364 - acc: 0.9913 - val_loss: 0.3376 - val_acc: 0.9168\n",
      "Epoch 32/100\n",
      "51s - loss: 0.0350 - acc: 0.9919 - val_loss: 0.3328 - val_acc: 0.9215\n",
      "Epoch 33/100\n",
      "49s - loss: 0.0335 - acc: 0.9918 - val_loss: 0.3588 - val_acc: 0.9166\n",
      "Epoch 34/100\n",
      "48s - loss: 0.0343 - acc: 0.9916 - val_loss: 0.3564 - val_acc: 0.9181\n",
      "Epoch 35/100\n",
      "52s - loss: 0.0323 - acc: 0.9920 - val_loss: 0.3392 - val_acc: 0.9227\n",
      "Epoch 36/100\n",
      "50s - loss: 0.0301 - acc: 0.9932 - val_loss: 0.3514 - val_acc: 0.9227\n",
      "Epoch 37/100\n",
      "49s - loss: 0.0306 - acc: 0.9924 - val_loss: 0.3491 - val_acc: 0.9200\n",
      "Epoch 38/100\n",
      "51s - loss: 0.0302 - acc: 0.9928 - val_loss: 0.3500 - val_acc: 0.9220\n",
      "Epoch 39/100\n",
      "53s - loss: 0.0275 - acc: 0.9937 - val_loss: 0.3625 - val_acc: 0.9156\n",
      "Epoch 40/100\n",
      "49s - loss: 0.0264 - acc: 0.9938 - val_loss: 0.3401 - val_acc: 0.9224\n",
      "Epoch 41/100\n",
      "54s - loss: 0.0263 - acc: 0.9937 - val_loss: 0.3426 - val_acc: 0.9252\n",
      "Epoch 42/100\n",
      "49s - loss: 0.0247 - acc: 0.9938 - val_loss: 0.3510 - val_acc: 0.9236\n",
      "Epoch 43/100\n",
      "50s - loss: 0.0245 - acc: 0.9946 - val_loss: 0.3524 - val_acc: 0.9195\n",
      "Epoch 44/100\n",
      "50s - loss: 0.0246 - acc: 0.9939 - val_loss: 0.3598 - val_acc: 0.9200\n",
      "Epoch 45/100\n",
      "55s - loss: 0.0232 - acc: 0.9947 - val_loss: 0.3156 - val_acc: 0.9304\n",
      "Epoch 46/100\n",
      "49s - loss: 0.0226 - acc: 0.9948 - val_loss: 0.3295 - val_acc: 0.9238\n",
      "Epoch 47/100\n",
      "52s - loss: 0.0219 - acc: 0.9949 - val_loss: 0.3669 - val_acc: 0.9227\n",
      "Epoch 48/100\n",
      "49s - loss: 0.0218 - acc: 0.9947 - val_loss: 0.3280 - val_acc: 0.9281\n",
      "Epoch 49/100\n",
      "49s - loss: 0.0209 - acc: 0.9952 - val_loss: 0.3580 - val_acc: 0.9218\n",
      "Epoch 50/100\n",
      "50s - loss: 0.0196 - acc: 0.9959 - val_loss: 0.3241 - val_acc: 0.9265\n",
      "Epoch 51/100\n",
      "50s - loss: 0.0187 - acc: 0.9961 - val_loss: 0.3514 - val_acc: 0.9268\n",
      "Epoch 52/100\n",
      "48s - loss: 0.0181 - acc: 0.9959 - val_loss: 0.3563 - val_acc: 0.9218\n",
      "Epoch 53/100\n",
      "48s - loss: 0.0178 - acc: 0.9959 - val_loss: 0.3252 - val_acc: 0.9261\n",
      "Epoch 54/100\n",
      "54s - loss: 0.0170 - acc: 0.9963 - val_loss: 0.3566 - val_acc: 0.9238\n",
      "Epoch 55/100\n",
      "56s - loss: 0.0178 - acc: 0.9962 - val_loss: 0.3536 - val_acc: 0.9238\n",
      "Epoch 56/100\n",
      "53s - loss: 0.0179 - acc: 0.9959 - val_loss: 0.3662 - val_acc: 0.9220\n",
      "Epoch 57/100\n",
      "51s - loss: 0.0172 - acc: 0.9961 - val_loss: 0.3470 - val_acc: 0.9263\n",
      "Epoch 58/100\n",
      "50s - loss: 0.0152 - acc: 0.9965 - val_loss: 0.3570 - val_acc: 0.9209\n",
      "Epoch 59/100\n",
      "51s - loss: 0.0156 - acc: 0.9964 - val_loss: 0.3370 - val_acc: 0.9299\n",
      "Epoch 60/100\n",
      "52s - loss: 0.0158 - acc: 0.9961 - val_loss: 0.3756 - val_acc: 0.9249\n",
      "Epoch 61/100\n",
      "53s - loss: 0.0144 - acc: 0.9967 - val_loss: 0.3518 - val_acc: 0.9281\n",
      "Epoch 62/100\n",
      "52s - loss: 0.0141 - acc: 0.9967 - val_loss: 0.3413 - val_acc: 0.9270\n",
      "Epoch 63/100\n",
      "50s - loss: 0.0132 - acc: 0.9972 - val_loss: 0.3501 - val_acc: 0.9272\n",
      "Epoch 64/100\n",
      "50s - loss: 0.0125 - acc: 0.9975 - val_loss: 0.3475 - val_acc: 0.9261\n",
      "Epoch 65/100\n",
      "48s - loss: 0.0127 - acc: 0.9973 - val_loss: 0.3452 - val_acc: 0.9281\n",
      "Epoch 66/100\n",
      "50s - loss: 0.0137 - acc: 0.9972 - val_loss: 0.3491 - val_acc: 0.9227\n",
      "Epoch 67/100\n",
      "49s - loss: 0.0129 - acc: 0.9970 - val_loss: 0.3469 - val_acc: 0.9263\n",
      "Epoch 68/100\n"
     ]
    }
   ],
   "source": [
    "# 92% validation accuracy on data_augmentation= False , batch_size=2000 and epoch=200 ,\n",
    "batch_size=2000\n",
    "data_augmentation= False\n",
    "epoch=100\n",
    "\n",
    "\n",
    "\n",
    "\"\"\"\n",
    "#Not giving good accuracy with image augmentation\n",
    "batch_size=10\n",
    "data_augmentation= True\n",
    "epoch=200\n",
    "\"\"\"\n",
    "\n",
    "\n",
    "if not data_augmentation:\n",
    "    print('Not using data augmentation.')\n",
    "    # 92% validation accuracy on batch_size=2000 and epoch=200\n",
    "    model.fit(X_train, y_train,\n",
    "              batch_size=batch_size,\n",
    "              nb_epoch=epoch,\n",
    "              validation_data=(X_valid, y_valid),\n",
    "              shuffle=True ,verbose=2)\n",
    "else:\n",
    "    \n",
    "    model.fit_generator(datagen.flow(X_train, y_train,shuffle=False,\n",
    "                                     batch_size=batch_size),\n",
    "                        samples_per_epoch= 500,\n",
    "                        nb_epoch=epoch,\n",
    "                        validation_data=(X_valid, y_valid),verbose=2)"
   ]
  },
  {
   "cell_type": "code",
   "execution_count": 33,
   "metadata": {
    "collapsed": false
   },
   "outputs": [
    {
     "name": "stdout",
     "output_type": "stream",
     "text": [
      "acc: 88.54%\n",
      "Saved model to disk\n",
      "Loaded model from disk\n"
     ]
    }
   ],
   "source": [
    "# evaluate the model on test data\n",
    "scores = model.evaluate(X_test, y_test, verbose=0)\n",
    "print(\"%s: %.2f%%\" % (model.metrics_names[1], scores[1]*100))\n",
    " \n",
    "# serialize model to JSON\n",
    "model_json = model.to_json()\n",
    "with open(\"model.json\", \"w\") as json_file:\n",
    "    json_file.write(model_json)\n",
    "# serialize weights to HDF5\n",
    "model.save_weights(\"model.h5\")\n",
    "print(\"Saved model to disk\")\n",
    " \n",
    "# later...\n",
    " \n",
    "# load json and create model\n",
    "json_file = open('model.json', 'r')\n",
    "loaded_model_json = json_file.read()\n",
    "json_file.close()\n",
    "loaded_model = model_from_json(loaded_model_json)\n",
    "# load weights into new model\n",
    "loaded_model.load_weights(\"model.h5\")\n",
    "print(\"Loaded model from disk\")"
   ]
  },
  {
   "cell_type": "markdown",
   "metadata": {},
   "source": [
    "---\n",
    "\n",
    "## Step 3: Test a Model on New Images\n",
    "\n",
    "To give yourself more insight into how your model is working, download at least five pictures of German traffic signs from the web and use your model to predict the traffic sign type.\n",
    "\n",
    "You may find `signnames.csv` useful as it contains mappings from the class id (integer) to the actual sign name."
   ]
  },
  {
   "cell_type": "markdown",
   "metadata": {},
   "source": [
    "### Load and Output the Images"
   ]
  },
  {
   "cell_type": "code",
   "execution_count": null,
   "metadata": {
    "collapsed": true
   },
   "outputs": [],
   "source": [
    "### Load the images and plot them here.\n",
    "### Feel free to use as many code cells as needed.\n",
    "import cv2\n",
    "import glob\n",
    "import numpy as np\n",
    "import pandas as pd\n",
    "\n",
    "new_images_resize = []\n",
    "new_images_original=[]\n",
    "files = glob.glob (\"./new_images/*\")\n",
    "for myFile in files:\n",
    "    print(myFile)\n",
    "    image = cv2.imread (myFile)\n",
    "    new_images_original.append (image)\n",
    "    dst = cv2.resize(image, (32, 32), interpolation = cv2.INTER_CUBIC)\n",
    "    new_images_resize.append (dst)\n",
    "\n",
    "print('X_data shape:', np.array(new_images_resize).shape)"
   ]
  },
  {
   "cell_type": "code",
   "execution_count": null,
   "metadata": {
    "collapsed": false
   },
   "outputs": [],
   "source": [
    "def display_images():\n",
    "    \n",
    "    f, axarr = plt.subplots(5,2,figsize=(10,10))\n",
    "    for i in range(0,5):\n",
    "        \n",
    "        axarr[i,0].imshow(new_images_resize[i])\n",
    "        axarr[i,1].imshow(new_images_original[i])\n",
    "        \n",
    "    plt.show()\n",
    "    \n",
    "display_images()\n"
   ]
  },
  {
   "cell_type": "code",
   "execution_count": null,
   "metadata": {
    "collapsed": true
   },
   "outputs": [],
   "source": []
  },
  {
   "cell_type": "markdown",
   "metadata": {},
   "source": [
    "### Predict the Sign Type for Each Image"
   ]
  },
  {
   "cell_type": "code",
   "execution_count": null,
   "metadata": {
    "collapsed": true
   },
   "outputs": [],
   "source": [
    "### Run the predictions here and use the model to output the prediction for each image.\n",
    "### Make sure to pre-process the images with the same pre-processing pipeline used earlier.\n",
    "### Feel free to use as many code cells as needed.\n",
    "new_test_data=np.array(new_images_resize)\n",
    "model.predict(new_test_data)"
   ]
  },
  {
   "cell_type": "code",
   "execution_count": null,
   "metadata": {
    "collapsed": true
   },
   "outputs": [],
   "source": [
    "normalized_prob=model.predict(new_test_data)"
   ]
  },
  {
   "cell_type": "markdown",
   "metadata": {},
   "source": [
    "### Analyze Performance"
   ]
  },
  {
   "cell_type": "code",
   "execution_count": 30,
   "metadata": {
    "collapsed": true
   },
   "outputs": [],
   "source": [
    "### Calculate the accuracy for these 5 new images. \n",
    "### For example, if the model predicted 1 out of 5 signs correctly, it's 20% accurate on these new images."
   ]
  },
  {
   "cell_type": "markdown",
   "metadata": {},
   "source": [
    "### Output Top 5 Softmax Probabilities For Each Image Found on the Web"
   ]
  },
  {
   "cell_type": "markdown",
   "metadata": {},
   "source": [
    "        For each of the new images, print out the model's softmax probabilities to show the **certainty** of the model's predictions (limit the output to the top 5 probabilities for each image). [`tf.nn.top_k`](https://www.tensorflow.org/versions/r0.12/api_docs/python/nn.html#top_k) could prove helpful here. \n",
    "\n",
    "The example below demonstrates how tf.nn.top_k can be used to find the top k predictions for each image.\n",
    "\n",
    "`tf.nn.top_k` will return the values and indices (class ids) of the top k predictions. So if k=3, for each sign, it'll return the 3 largest probabilities (out of a possible 43) and the correspoding class ids.\n",
    "\n",
    "Take this numpy array as an example. The values in the array represent predictions. The array contains softmax probabilities for five candidate images with six possible classes. `tk.nn.top_k` is used to choose the three classes with the highest probability:\n",
    "\n",
    "```\n",
    "# (5, 6) array\n",
    "a = np.array([[ 0.24879643,  0.07032244,  0.12641572,  0.34763842,  0.07893497,\n",
    "         0.12789202],\n",
    "       [ 0.28086119,  0.27569815,  0.08594638,  0.0178669 ,  0.18063401,\n",
    "         0.15899337],\n",
    "       [ 0.26076848,  0.23664738,  0.08020603,  0.07001922,  0.1134371 ,\n",
    "         0.23892179],\n",
    "       [ 0.11943333,  0.29198961,  0.02605103,  0.26234032,  0.1351348 ,\n",
    "         0.16505091],\n",
    "       [ 0.09561176,  0.34396535,  0.0643941 ,  0.16240774,  0.24206137,\n",
    "         0.09155967]])\n",
    "```\n",
    "\n",
    "Running it through `sess.run(tf.nn.top_k(tf.constant(a), k=3))` produces:\n",
    "\n",
    "```\n",
    "TopKV2(values=array([[ 0.34763842,  0.24879643,  0.12789202],\n",
    "       [ 0.28086119,  0.27569815,  0.18063401],\n",
    "       [ 0.26076848,  0.23892179,  0.23664738],\n",
    "       [ 0.29198961,  0.26234032,  0.16505091],\n",
    "       [ 0.34396535,  0.24206137,  0.16240774]]), indices=array([[3, 0, 5],\n",
    "       [0, 1, 4],\n",
    "       [0, 5, 1],\n",
    "       [1, 3, 5],\n",
    "       [1, 4, 3]], dtype=int32))\n",
    "```\n",
    "\n",
    "Looking just at the first row we get `[ 0.34763842,  0.24879643,  0.12789202]`, you can confirm these are the 3 largest probabilities in `a`. You'll also notice `[3, 0, 5]` are the corresponding indices."
   ]
  },
  {
   "cell_type": "code",
   "execution_count": null,
   "metadata": {
    "collapsed": true
   },
   "outputs": [],
   "source": [
    "### Print out the top five softmax probabilities for the predictions on the German traffic sign images found on the web. \n",
    "### Feel free to use as many code cells as needed."
   ]
  },
  {
   "cell_type": "code",
   "execution_count": null,
   "metadata": {
    "collapsed": true
   },
   "outputs": [],
   "source": [
    "with tf.Session(graph = tf.Graph()) as sess:\n",
    "    \n",
    "    top_k_op = tf.nn.top_k(normalized_prob, k=5)\n",
    "    top_k_results = sess.run(top_k_op)\n",
    "    \n",
    "    # show predictions with their probabilities\n",
    "    print (top_k_results)\n",
    "    #print_result(labels, top_k_results.values, top_k_results.indices)"
   ]
  },
  {
   "cell_type": "code",
   "execution_count": null,
   "metadata": {
    "collapsed": true
   },
   "outputs": [],
   "source": [
    "class_names = pd.read_csv('./signnames.csv')['SignName'].values\n",
    "with tf.Session(graph = tf.Graph()) as sess:\n",
    "    \n",
    "    top_k_op = tf.nn.top_k(normalized_prob, k=5)\n",
    "    top_k_results = sess.run(top_k_op)\n",
    "    \n",
    "    # show predictions with their probabilities\n",
    "    #print (top_k_results)\n",
    "    indices= top_k_results[1]\n",
    "    #print(indices)\n",
    "    \n",
    "    f, axarr = plt.subplots(5,1,figsize=(10,9))\n",
    "    for i in range(0,5):    \n",
    "        #print(\"predicted = \" +class_names[indices[i][0]])\n",
    "        \n",
    "        axarr[i].imshow(new_images_original[i])\n",
    "        axarr[i].axis('off')\n",
    "        axarr[i].set_title(\"predicted:\"+class_names[indices[i][0]])\n",
    "        #plt.adjust(left=None, bottom=0.2, right=None, top=None, wspace=None, hspace=None)\n",
    "        \n",
    "    #print_result(labels, top_k_results.values, top_k_results.indices)\n",
    "    \n",
    "    plt.show"
   ]
  },
  {
   "cell_type": "markdown",
   "metadata": {},
   "source": [
    "---\n",
    "\n",
    "## Step 4: Visualize the Neural Network's State with Test Images\n",
    "\n",
    " This Section is not required to complete but acts as an additional excersise for understaning the output of a neural network's weights. While neural networks can be a great learning device they are often referred to as a black box. We can understand what the weights of a neural network look like better by plotting their feature maps. After successfully training your neural network you can see what it's feature maps look like by plotting the output of the network's weight layers in response to a test stimuli image. From these plotted feature maps, it's possible to see what characteristics of an image the network finds interesting. For a sign, maybe the inner network feature maps react with high activation to the sign's boundary outline or to the contrast in the sign's painted symbol.\n",
    "\n",
    " Provided for you below is the function code that allows you to get the visualization output of any tensorflow weight layer you want. The inputs to the function should be a stimuli image, one used during training or a new one you provided, and then the tensorflow variable name that represents the layer's state during the training process, for instance if you wanted to see what the [LeNet lab's](https://classroom.udacity.com/nanodegrees/nd013/parts/fbf77062-5703-404e-b60c-95b78b2f3f9e/modules/6df7ae49-c61c-4bb2-a23e-6527e69209ec/lessons/601ae704-1035-4287-8b11-e2c2716217ad/concepts/d4aca031-508f-4e0b-b493-e7b706120f81) feature maps looked like for it's second convolutional layer you could enter conv2 as the tf_activation variable.\n",
    "\n",
    "For an example of what feature map outputs look like, check out NVIDIA's results in their paper [End-to-End Deep Learning for Self-Driving Cars](https://devblogs.nvidia.com/parallelforall/deep-learning-self-driving-cars/) in the section Visualization of internal CNN State. NVIDIA was able to show that their network's inner weights had high activations to road boundary lines by comparing feature maps from an image with a clear path to one without. Try experimenting with a similar test to show that your trained network's weights are looking for interesting features, whether it's looking at differences in feature maps from images with or without a sign, or even what feature maps look like in a trained network vs a completely untrained one on the same sign image.\n",
    "\n",
    "<figure>\n",
    " <img src=\"visualize_cnn.png\" width=\"380\" alt=\"Combined Image\" />\n",
    " <figcaption>\n",
    " <p></p> \n",
    " <p style=\"text-align: center;\"> Your output should look something like this (above)</p> \n",
    " </figcaption>\n",
    "</figure>\n",
    " <p></p> \n"
   ]
  },
  {
   "cell_type": "code",
   "execution_count": null,
   "metadata": {
    "collapsed": true
   },
   "outputs": [],
   "source": [
    "### Visualize your network's feature maps here.\n",
    "### Feel free to use as many code cells as needed.\n",
    "\n",
    "# image_input: the test image being fed into the network to produce the feature maps\n",
    "# tf_activation: should be a tf variable name used during your training procedure that represents the calculated state of a specific weight layer\n",
    "# activation_min/max: can be used to view the activation contrast in more detail, by default matplot sets min and max to the actual min and max values of the output\n",
    "# plt_num: used to plot out multiple different weight feature map sets on the same block, just extend the plt number for each new feature map entry\n",
    "\n",
    "def outputFeatureMap(image_input, tf_activation, activation_min=-1, activation_max=-1 ,plt_num=1):\n",
    "    # Here make sure to preprocess your image_input in a way your network expects\n",
    "    # with size, normalization, ect if needed\n",
    "    # image_input =\n",
    "    # Note: x should be the same name as your network's tensorflow data placeholder variable\n",
    "    # If you get an error tf_activation is not defined it maybe having trouble accessing the variable from inside a function\n",
    "    activation = tf_activation.eval(session=sess,feed_dict={x : image_input})\n",
    "    featuremaps = activation.shape[3]\n",
    "    plt.figure(plt_num, figsize=(15,15))\n",
    "    for featuremap in range(featuremaps):\n",
    "        plt.subplot(6,8, featuremap+1) # sets the number of feature maps to show on each row and column\n",
    "        plt.title('FeatureMap ' + str(featuremap)) # displays the feature map number\n",
    "        if activation_min != -1 & activation_max != -1:\n",
    "            plt.imshow(activation[0,:,:, featuremap], interpolation=\"nearest\", vmin =activation_min, vmax=activation_max, cmap=\"gray\")\n",
    "        elif activation_max != -1:\n",
    "            plt.imshow(activation[0,:,:, featuremap], interpolation=\"nearest\", vmax=activation_max, cmap=\"gray\")\n",
    "        elif activation_min !=-1:\n",
    "            plt.imshow(activation[0,:,:, featuremap], interpolation=\"nearest\", vmin=activation_min, cmap=\"gray\")\n",
    "        else:\n",
    "            plt.imshow(activation[0,:,:, featuremap], interpolation=\"nearest\", cmap=\"gray\")"
   ]
  },
  {
   "cell_type": "markdown",
   "metadata": {},
   "source": [
    "### Question 9\n",
    "\n",
    "Discuss how you used the visual output of your trained network's feature maps to show that it had learned to look for interesting characteristics in traffic sign images\n"
   ]
  },
  {
   "cell_type": "markdown",
   "metadata": {},
   "source": [
    "**Answer:**"
   ]
  },
  {
   "cell_type": "markdown",
   "metadata": {},
   "source": [
    "### How to do above thing if model is built using Keras rather than directly with tensorflow ?\n",
    "> **Note**: Once you have completed all of the code implementations and successfully answered each question above, you may finalize your work by exporting the iPython Notebook as an HTML document. You can do this by using the menu above and navigating to  \\n\",\n",
    "    \"**File -> Download as -> HTML (.html)**. Include the finished document along with this notebook as your submission."
   ]
  },
  {
   "cell_type": "markdown",
   "metadata": {},
   "source": [
    "### Project Writeup\n",
    "\n",
    "Once you have completed the code implementation, document your results in a project writeup using this [template](https://github.com/udacity/CarND-Traffic-Sign-Classifier-Project/blob/master/writeup_template.md) as a guide. The writeup can be in a markdown or pdf file. "
   ]
  }
 ],
 "metadata": {
  "anaconda-cloud": {},
  "kernelspec": {
   "display_name": "Python [conda env:carnd-term1]",
   "language": "python",
   "name": "conda-env-carnd-term1-py"
  },
  "language_info": {
   "codemirror_mode": {
    "name": "ipython",
    "version": 3
   },
   "file_extension": ".py",
   "mimetype": "text/x-python",
   "name": "python",
   "nbconvert_exporter": "python",
   "pygments_lexer": "ipython3",
   "version": "3.5.2"
  }
 },
 "nbformat": 4,
 "nbformat_minor": 1
}
