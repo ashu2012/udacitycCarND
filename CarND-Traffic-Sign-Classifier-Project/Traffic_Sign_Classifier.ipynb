{
 "cells": [
  {
   "cell_type": "markdown",
   "metadata": {},
   "source": [
    "# Self-Driving Car Engineer Nanodegree\n",
    "\n",
    "## Deep Learning\n",
    "\n",
    "## Project: Build a Traffic Sign Recognition Classifier\n",
    "\n",
    "In this notebook, a template is provided for you to implement your functionality in stages, which is required to successfully complete this project. If additional code is required that cannot be included in the notebook, be sure that the Python code is successfully imported and included in your submission if necessary. \n",
    "\n",
    "> **Note**: Once you have completed all of the code implementations, you need to finalize your work by exporting the iPython Notebook as an HTML document. Before exporting the notebook to html, all of the code cells need to have been run so that reviewers can see the final implementation and output. You can then export the notebook by using the menu above and navigating to  \\n\",\n",
    "    \"**File -> Download as -> HTML (.html)**. Include the finished document along with this notebook as your submission. \n",
    "\n",
    "In addition to implementing code, there is a writeup to complete. The writeup should be completed in a separate file, which can be either a markdown file or a pdf document. There is a [write up template](https://github.com/udacity/CarND-Traffic-Sign-Classifier-Project/blob/master/writeup_template.md) that can be used to guide the writing process. Completing the code template and writeup template will cover all of the [rubric points](https://review.udacity.com/#!/rubrics/481/view) for this project.\n",
    "\n",
    "The [rubric](https://review.udacity.com/#!/rubrics/481/view) contains \"Stand Out Suggestions\" for enhancing the project beyond the minimum requirements. The stand out suggestions are optional. If you decide to pursue the \"stand out suggestions\", you can include the code in this Ipython notebook and also discuss the results in the writeup file.\n",
    "\n",
    "\n",
    ">**Note:** Code and Markdown cells can be executed using the **Shift + Enter** keyboard shortcut. In addition, Markdown cells can be edited by typically double-clicking the cell to enter edit mode."
   ]
  },
  {
   "cell_type": "markdown",
   "metadata": {},
   "source": [
    "---\n",
    "## Step 0: Load The Data"
   ]
  },
  {
   "cell_type": "code",
   "execution_count": 1,
   "metadata": {
    "collapsed": true
   },
   "outputs": [],
   "source": [
    "import numpy as np\n"
   ]
  },
  {
   "cell_type": "code",
   "execution_count": 2,
   "metadata": {
    "collapsed": false
   },
   "outputs": [],
   "source": [
    "# Load pickled data\n",
    "import pickle\n",
    "\n",
    "# TODO: Fill this in based on where you saved the training and testing data\n",
    "\n",
    "training_file = 'traffic-signs-data/train.p'\n",
    "validation_file='traffic-signs-data/valid.p'\n",
    "testing_file = 'traffic-signs-data/test.p'\n",
    "\n",
    "with open(training_file, mode='rb') as f:\n",
    "    train = pickle.load(f)\n",
    "with open(validation_file, mode='rb') as f:\n",
    "    valid = pickle.load(f)\n",
    "with open(testing_file, mode='rb') as f:\n",
    "    test = pickle.load(f)\n",
    "    \n",
    "X_train, y_train = train['features'], train['labels']\n",
    "X_valid, y_valid = valid['features'], valid['labels']\n",
    "X_test, y_test = test['features'], test['labels']"
   ]
  },
  {
   "cell_type": "markdown",
   "metadata": {},
   "source": [
    "---\n",
    "\n",
    "## Step 1: Dataset Summary & Exploration\n",
    "\n",
    "The pickled data is a dictionary with 4 key/value pairs:\n",
    "\n",
    "- `'features'` is a 4D array containing raw pixel data of the traffic sign images, (num examples, width, height, channels).\n",
    "- `'labels'` is a 1D array containing the label/class id of the traffic sign. The file `signnames.csv` contains id -> name mappings for each id.\n",
    "- `'sizes'` is a list containing tuples, (width, height) representing the the original width and height the image.\n",
    "- `'coords'` is a list containing tuples, (x1, y1, x2, y2) representing coordinates of a bounding box around the sign in the image. **THESE COORDINATES ASSUME THE ORIGINAL IMAGE. THE PICKLED DATA CONTAINS RESIZED VERSIONS (32 by 32) OF THESE IMAGES**\n",
    "\n",
    "Complete the basic data summary below. Use python, numpy and/or pandas methods to calculate the data summary rather than hard coding the results. For example, the [pandas shape method](http://pandas.pydata.org/pandas-docs/stable/generated/pandas.DataFrame.shape.html) might be useful for calculating some of the summary results. "
   ]
  },
  {
   "cell_type": "markdown",
   "metadata": {},
   "source": [
    "### Provide a Basic Summary of the Data Set Using Python, Numpy and/or Pandas"
   ]
  },
  {
   "cell_type": "code",
   "execution_count": 3,
   "metadata": {
    "collapsed": false
   },
   "outputs": [
    {
     "data": {
      "text/plain": [
       "(34799, 32, 32, 3)"
      ]
     },
     "execution_count": 3,
     "metadata": {},
     "output_type": "execute_result"
    }
   ],
   "source": [
    "X_train.shape"
   ]
  },
  {
   "cell_type": "code",
   "execution_count": 4,
   "metadata": {
    "collapsed": false
   },
   "outputs": [
    {
     "data": {
      "text/plain": [
       "(32, 32, 3)"
      ]
     },
     "execution_count": 4,
     "metadata": {},
     "output_type": "execute_result"
    }
   ],
   "source": [
    "X_test.shape[1:]"
   ]
  },
  {
   "cell_type": "code",
   "execution_count": 5,
   "metadata": {
    "collapsed": false
   },
   "outputs": [
    {
     "data": {
      "text/plain": [
       "(34799,)"
      ]
     },
     "execution_count": 5,
     "metadata": {},
     "output_type": "execute_result"
    }
   ],
   "source": [
    "y_train.shape"
   ]
  },
  {
   "cell_type": "code",
   "execution_count": 6,
   "metadata": {
    "collapsed": false
   },
   "outputs": [
    {
     "data": {
      "text/plain": [
       "numpy.ndarray"
      ]
     },
     "execution_count": 6,
     "metadata": {},
     "output_type": "execute_result"
    }
   ],
   "source": [
    "type(y_train)"
   ]
  },
  {
   "cell_type": "code",
   "execution_count": 7,
   "metadata": {
    "collapsed": false
   },
   "outputs": [
    {
     "data": {
      "text/plain": [
       "43"
      ]
     },
     "execution_count": 7,
     "metadata": {},
     "output_type": "execute_result"
    }
   ],
   "source": [
    "len(np.unique(y_train))"
   ]
  },
  {
   "cell_type": "code",
   "execution_count": 8,
   "metadata": {
    "collapsed": false
   },
   "outputs": [
    {
     "data": {
      "text/plain": [
       "array([ 0,  1,  2,  3,  4,  5,  6,  7,  8,  9, 10, 11, 12, 13, 14, 15, 16,\n",
       "       17, 18, 19, 20, 21, 22, 23, 24, 25, 26, 27, 28, 29, 30, 31, 32, 33,\n",
       "       34, 35, 36, 37, 38, 39, 40, 41, 42], dtype=uint8)"
      ]
     },
     "execution_count": 8,
     "metadata": {},
     "output_type": "execute_result"
    }
   ],
   "source": [
    "np.unique(y_test)"
   ]
  },
  {
   "cell_type": "code",
   "execution_count": 9,
   "metadata": {
    "collapsed": false
   },
   "outputs": [
    {
     "name": "stdout",
     "output_type": "stream",
     "text": [
      "Number of training examples = 34799\n",
      "Number of testing examples = 12630\n",
      "Image data shape = (32, 32, 3)\n",
      "Number of classes = 43\n"
     ]
    }
   ],
   "source": [
    "### Replace each question mark with the appropriate value. \n",
    "### Use python, pandas or numpy methods rather than hard coding the results\n",
    "\n",
    "# TODO: Number of training examples\n",
    "n_train = X_train.shape[0]\n",
    "\n",
    "# TODO: Number of testing examples.\n",
    "n_test = X_test.shape[0]\n",
    "\n",
    "# TODO: What's the shape of an traffic sign image?\n",
    "image_shape = X_test.shape[1:]\n",
    "\n",
    "# TODO: How many unique classes/labels there are in the dataset.\n",
    "n_classes = len(np.unique(y_train))\n",
    "\n",
    "print(\"Number of training examples =\", n_train)\n",
    "print(\"Number of testing examples =\", n_test)\n",
    "print(\"Image data shape =\", image_shape)\n",
    "print(\"Number of classes =\", n_classes)"
   ]
  },
  {
   "cell_type": "markdown",
   "metadata": {},
   "source": [
    "### Include an exploratory visualization of the dataset"
   ]
  },
  {
   "cell_type": "markdown",
   "metadata": {},
   "source": [
    "Visualize the German Traffic Signs Dataset using the pickled file(s). This is open ended, suggestions include: plotting traffic sign images, plotting the count of each sign, etc.\n",
    "\n",
    "The [Matplotlib](http://matplotlib.org/) [examples](http://matplotlib.org/examples/index.html) and [gallery](http://matplotlib.org/gallery.html) pages are a great resource for doing visualizations in Python.\n",
    "\n",
    "**NOTE:** It's recommended you start with something simple first. If you wish to do more, come back to it after you've completed the rest of the sections."
   ]
  },
  {
   "cell_type": "code",
   "execution_count": 10,
   "metadata": {
    "collapsed": true
   },
   "outputs": [],
   "source": [
    "### Data exploration visualization code goes here.\n",
    "### Feel free to use as many code cells as needed.\n",
    "import matplotlib.pyplot as plt\n",
    "# Visualizations will be shown in the notebook.\n",
    "%matplotlib inline"
   ]
  },
  {
   "cell_type": "markdown",
   "metadata": {},
   "source": [
    "----\n",
    "\n",
    "## Step 2: Design and Test a Model Architecture\n",
    "\n",
    "Design and implement a deep learning model that learns to recognize traffic signs. Train and test your model on the [German Traffic Sign Dataset](http://benchmark.ini.rub.de/?section=gtsrb&subsection=dataset).\n",
    "\n",
    "There are various aspects to consider when thinking about this problem:\n",
    "\n",
    "- Neural network architecture\n",
    "- Play around preprocessing techniques (normalization, rgb to grayscale, etc)\n",
    "- Number of examples per label (some have more than others).\n",
    "- Generate fake data.\n",
    "\n",
    "Here is an example of a [published baseline model on this problem](http://yann.lecun.com/exdb/publis/pdf/sermanet-ijcnn-11.pdf). It's not required to be familiar with the approach used in the paper but, it's good practice to try to read papers like these.\n",
    "\n",
    "**NOTE:** The LeNet-5 implementation shown in the [classroom](https://classroom.udacity.com/nanodegrees/nd013/parts/fbf77062-5703-404e-b60c-95b78b2f3f9e/modules/6df7ae49-c61c-4bb2-a23e-6527e69209ec/lessons/601ae704-1035-4287-8b11-e2c2716217ad/concepts/d4aca031-508f-4e0b-b493-e7b706120f81) at the end of the CNN lesson is a solid starting point. You'll have to change the number of classes and possibly the preprocessing, but aside from that it's plug and play!"
   ]
  },
  {
   "cell_type": "markdown",
   "metadata": {},
   "source": [
    "### Pre-process the Data Set (normalization, grayscale, etc.)"
   ]
  },
  {
   "cell_type": "markdown",
   "metadata": {},
   "source": [
    "Use the code cell (or multiple code cells, if necessary) to implement the first step of your project."
   ]
  },
  {
   "cell_type": "code",
   "execution_count": 11,
   "metadata": {
    "collapsed": true
   },
   "outputs": [],
   "source": [
    "### Preprocess the data here. Preprocessing steps could include normalization, converting to grayscale, etc.\n",
    "### Feel free to use as many code cells as needed."
   ]
  },
  {
   "cell_type": "code",
   "execution_count": 12,
   "metadata": {
    "collapsed": false
   },
   "outputs": [
    {
     "name": "stderr",
     "output_type": "stream",
     "text": [
      "Using TensorFlow backend.\n"
     ]
    }
   ],
   "source": [
    "from sklearn.preprocessing import normalize\n",
    "import cv2\n",
    "import tensorflow as tf\n",
    "sess = tf.Session()\n",
    "\n",
    "from keras import backend as K\n",
    "K.set_session(sess)"
   ]
  },
  {
   "cell_type": "code",
   "execution_count": 13,
   "metadata": {
    "collapsed": false
   },
   "outputs": [
    {
     "data": {
      "image/png": "[encoded data removed]",
      "text/plain": [
       "<matplotlib.figure.Figure at 0x7f6df0100da0>"
      ]
     },
     "metadata": {},
     "output_type": "display_data"
    }
   ],
   "source": [
    "#image = cv2.imread(X_test[0])\n",
    "BGRMatrix = cv2.cvtColor( X_test[0], cv2.COLOR_RGB2BGR, 3)\n",
    "image_yuv = cv2.cvtColor(X_test[0],cv2.COLOR_RGB2YUV,3)\n",
    "image_hsv = cv2.cvtColor(X_test[0],cv2.COLOR_RGB2HSV,3)\n",
    "image_gray = cv2.cvtColor(X_test[0],cv2.COLOR_RGB2GRAY,3)\n",
    "b,g,r = cv2.split(X_test[0])\n",
    "#b = X_test[0][:,:,0]\n",
    "#g = X_test[0][:,:,1]\n",
    "#r = X_test[0][:,:,2]\n",
    "\"\"\"\n",
    "cv2.imwrite(\"ori.png\", X_test[0])\n",
    "cv2.imwrite(\"ori-bgr.png\", BGRMatrix)\n",
    "cv2.imwrite(\"ori-yuv.png\", image_yuv)\n",
    "cv2.imwrite(\"ori-b.png\", b)\n",
    "cv2.imwrite(\"ori-g.png\", g)\n",
    "cv2.imwrite(\"ori-r.png\", r)\n",
    "\"\"\"\n",
    "\n",
    "plt.subplot(321),plt.imshow(X_test[0],'gray'),plt.title('ORIGINAL')\n",
    "plt.subplot(322),plt.imshow(BGRMatrix,'gray'),plt.title('bgr')\n",
    "plt.subplot(323),plt.imshow(image_yuv,'gray'),plt.title('yuv')\n",
    "plt.subplot(324),plt.imshow(image_hsv,'gray'),plt.title('hsv')\n",
    "plt.subplot(325),plt.imshow(image_gray,'gray'),plt.title('gray')\n",
    "\n",
    "plt.show()"
   ]
  },
  {
   "cell_type": "code",
   "execution_count": 14,
   "metadata": {
    "collapsed": true
   },
   "outputs": [],
   "source": [
    "def normalize_grayscale(image_data):\n",
    "    \"\"\"\n",
    "    Normalize the image data with Min-Max scaling to a range of [0.1, 0.9]\n",
    "    :param image_data: The image data to be normalized\n",
    "    :return: Normalized image data\n",
    "    \"\"\"\n",
    "    img_max = np.max(image_data)\n",
    "    img_min = np.min(image_data)\n",
    "    a = -0.5\n",
    "    b = 0.5\n",
    "\n",
    "    img_normed = a + (b-a)*(image_data - img_min)/(img_max - img_min)\n",
    "    return img_normed\n",
    "\n",
    "def normalize_color(image_data):\n",
    "    \"\"\"\n",
    "    Normalize the image data on per channel basis. \n",
    "    \"\"\"\n",
    "    img_normed_color = np.zeros_like(image_data, dtype=float)\n",
    "    #print(image_data.shape[2])\n",
    "    for ch in range(image_data.shape[2]):\n",
    "        tmp = normalize_grayscale(image_data[:,:,ch])\n",
    "        img_normed_color[:,:,ch] = tmp\n",
    "    return img_normed_color\n",
    "\n",
    "#pixelwise mean and image wise variation\n",
    "def datsetmean(image_data):\n",
    "    image_shape= image_data.shape[1:]\n",
    "    print(image_shape)\n",
    "    \n"
   ]
  },
  {
   "cell_type": "markdown",
   "metadata": {},
   "source": [
    "##### https://www.quora.com/What-are-some-ways-of-pre-procesing-images-before-applying-convolutional-neural-networks-for-the-task-of-image-classification\n",
    "#### https://stats.stackexchange.com/questions/185853/why-do-we-need-to-normalize-the-images-before-we-put-them-into-cnn\n",
    "##### https://stats.stackexchange.com/questions/211436/why-do-we-normalize-images-by-subtracting-the-datasets-image-mean-and-not-the-c\n",
    "better way from research paper:-\n",
    "The first pass, you will compute the mean pixel values of each channel, and the variance over the entire set of pixels in a channel. When you are finished, you should have 3075 values: one mean value per pixel per channel (32*32*3=3072), and one variance per channel (3).\n",
    "\n",
    "On the second pass you will modify the images by taking the subtracting from each pixel the mean you found in the first pass, and dividing by the standard deviation from the first pass.\n",
    "\n",
    "Let μr,i,jμr,i,j be the mean value of the red channel at the i,ji,j-th pixel, and let σ2rσr2 be the variance of the red channel over all pixels in all images. Then the new value corresponding to the red channel of the i,ji,j-th pixel in the kk-th image ri,j,kri,j,k becomes"
   ]
  },
  {
   "cell_type": "code",
   "execution_count": 15,
   "metadata": {
    "collapsed": false
   },
   "outputs": [
    {
     "data": {
      "text/plain": [
       "<matplotlib.image.AxesImage at 0x7f6d90234b38>"
      ]
     },
     "execution_count": 15,
     "metadata": {},
     "output_type": "execute_result"
    },
    {
     "data": {
      "image/png": "[encoded data removed]",
      "text/plain": [
       "<matplotlib.figure.Figure at 0x7f6d9044a710>"
      ]
     },
     "metadata": {},
     "output_type": "display_data"
    }
   ],
   "source": [
    "plt.imshow(X_train[0])"
   ]
  },
  {
   "cell_type": "code",
   "execution_count": 16,
   "metadata": {
    "collapsed": false
   },
   "outputs": [
    {
     "data": {
      "image/png": "[encoded data removed]",
      "text/plain": [
       "<matplotlib.figure.Figure at 0x7f6d90290630>"
      ]
     },
     "metadata": {},
     "output_type": "display_data"
    }
   ],
   "source": [
    "X_train.shape\n",
    "f, axarr = plt.subplots(3,3)\n",
    "image_starIdx=809\n",
    "for i  in range(0,3):\n",
    "    \n",
    "        #rint(y_train[i]) \n",
    "        #plt.subplots(2, 2)\n",
    "    image_gray = cv2.cvtColor(X_train[image_starIdx+i],cv2.COLOR_RGB2GRAY,3)\n",
    "    axarr[i,0].imshow(X_train[image_starIdx+i]),plt.title('ORIGINAL')\n",
    "    axarr[i,1].imshow(normalize_color(X_train[image_starIdx+i])),plt.title('ORIGINAL-normalized')\n",
    "    axarr[i,2].imshow(normalize_grayscale(image_gray),'gray'),plt.title('gray-normalized')\n",
    "    #break\n",
    "    \n",
    "plt.show()"
   ]
  },
  {
   "cell_type": "code",
   "execution_count": 17,
   "metadata": {
    "collapsed": true
   },
   "outputs": [],
   "source": [
    "from keras.preprocessing.image import ImageDataGenerator"
   ]
  },
  {
   "cell_type": "code",
   "execution_count": 18,
   "metadata": {
    "collapsed": true
   },
   "outputs": [],
   "source": [
    "# define data preparation using augmentation\n",
    "datagen = ImageDataGenerator(featurewise_center=True,\n",
    "    featurewise_std_normalization=True,\n",
    "    rotation_range=20,\n",
    "    width_shift_range=0,\n",
    "    height_shift_range=0,\n",
    "    horizontal_flip=True )\n",
    "\n",
    "\n",
    "#datagen = ImageDataGenerator(rotation_range=90)\n",
    "# fit parameters from data\n",
    "datagen.fit(X_train.astype('float32'))"
   ]
  },
  {
   "cell_type": "code",
   "execution_count": 19,
   "metadata": {
    "collapsed": false
   },
   "outputs": [
    {
     "data": {
      "image/png": "[encoded data removed]",
      "text/plain": [
       "<matplotlib.figure.Figure at 0x7f6d90102d30>"
      ]
     },
     "metadata": {},
     "output_type": "display_data"
    },
    {
     "data": {
      "image/png": "[encoded data removed]",
      "text/plain": [
       "<matplotlib.figure.Figure at 0x7f6d882b1080>"
      ]
     },
     "metadata": {},
     "output_type": "display_data"
    },
    {
     "data": {
      "image/png": "[encoded data removed]",
      "text/plain": [
       "<matplotlib.figure.Figure at 0x7f6d9021ba90>"
      ]
     },
     "metadata": {},
     "output_type": "display_data"
    }
   ],
   "source": [
    "count = 1\n",
    "for X_batch, y_batch in datagen.flow(X_train, y_train, batch_size=3,shuffle=False, save_to_dir='augmentedImages', save_prefix='aug', save_format='jpeg'):\n",
    "    # create a grid of 3x3 images\n",
    "    for i in range(0, 3):\n",
    "        plt.subplot(330 + 1 + i)\n",
    "        plt.imshow(X_batch[i].reshape(32, 32, 3))\n",
    "    plt.show()\n",
    "    count = count+1\n",
    "    if count > 3 :\n",
    "        break\n",
    "    # show the plot\n",
    "    "
   ]
  },
  {
   "cell_type": "code",
   "execution_count": 20,
   "metadata": {
    "collapsed": false
   },
   "outputs": [
    {
     "name": "stderr",
     "output_type": "stream",
     "text": [
      "/media/ashutosh/unix-extra1/anaconda3/envs/carnd-term1/lib/python3.5/site-packages/sklearn/cross_validation.py:44: DeprecationWarning: This module was deprecated in version 0.18 in favor of the model_selection module into which all the refactored classes and functions are moved. Also note that the interface of the new CV iterators are different from that of this module. This module will be removed in 0.20.\n",
      "  \"This module will be removed in 0.20.\", DeprecationWarning)\n"
     ]
    }
   ],
   "source": [
    "import keras\n",
    "from keras.models import Sequential\n",
    "from keras.layers import MaxPooling2D\n",
    "from keras.layers import AveragePooling2D\n",
    "from keras.layers import Convolution2D\n",
    "from keras.layers import Dense, Dropout, Activation, Flatten\n",
    "from keras.utils import np_utils\n",
    "import random\n",
    "from sklearn.cross_validation import train_test_split\n",
    "from keras.models import model_from_json"
   ]
  },
  {
   "cell_type": "code",
   "execution_count": 21,
   "metadata": {
    "collapsed": false
   },
   "outputs": [
    {
     "name": "stdout",
     "output_type": "stream",
     "text": [
      "1.1.0\n"
     ]
    }
   ],
   "source": [
    "if hasattr(tf.contrib, 'ctc'):\n",
    "  ctc = tf.contrib.ctc  # old version\n",
    "else:\n",
    "  ctc = tf.nn  # New official version.\n",
    "\n",
    "print(tf.__version__)"
   ]
  },
  {
   "cell_type": "markdown",
   "metadata": {},
   "source": [
    "### Model Architecture"
   ]
  },
  {
   "cell_type": "markdown",
   "metadata": {},
   "source": [
    "<figure>\n",
    " <img src=\"convnet.png\" width=\"380\" alt=\"Combined Image\" />\n",
    " <figcaption>\n",
    " <p></p> \n",
    " <p style=\"text-align: center;\"> convnet</p> \n",
    " </figcaption>\n",
    "</figure>\n",
    " <p></p> "
   ]
  },
  {
   "cell_type": "code",
   "execution_count": 22,
   "metadata": {
    "collapsed": false
   },
   "outputs": [
    {
     "name": "stdout",
     "output_type": "stream",
     "text": [
      "____________________________________________________________________________________________________\n",
      "Layer (type)                     Output Shape          Param #     Connected to                     \n",
      "====================================================================================================\n",
      "convolution2d_1 (Convolution2D)  (None, 25, 25, 64)    12352       convolution2d_input_1[0][0]      \n",
      "____________________________________________________________________________________________________\n",
      "activation_1 (Activation)        (None, 25, 25, 64)    0           convolution2d_1[0][0]            \n",
      "____________________________________________________________________________________________________\n",
      "averagepooling2d_1 (AveragePooli (None, 12, 12, 64)    0           activation_1[0][0]               \n",
      "____________________________________________________________________________________________________\n",
      "convolution2d_2 (Convolution2D)  (None, 5, 5, 64)      262208      averagepooling2d_1[0][0]         \n",
      "____________________________________________________________________________________________________\n",
      "activation_2 (Activation)        (None, 5, 5, 64)      0           convolution2d_2[0][0]            \n",
      "____________________________________________________________________________________________________\n",
      "averagepooling2d_2 (AveragePooli (None, 2, 2, 64)      0           activation_2[0][0]               \n",
      "____________________________________________________________________________________________________\n",
      "flatten_1 (Flatten)              (None, 256)           0           averagepooling2d_2[0][0]         \n",
      "____________________________________________________________________________________________________\n",
      "dense_1 (Dense)                  (None, 500)           128500      flatten_1[0][0]                  \n",
      "____________________________________________________________________________________________________\n",
      "dropout_1 (Dropout)              (None, 500)           0           dense_1[0][0]                    \n",
      "____________________________________________________________________________________________________\n",
      "activation_3 (Activation)        (None, 500)           0           dropout_1[0][0]                  \n",
      "____________________________________________________________________________________________________\n",
      "dense_2 (Dense)                  (None, 43)            21543       activation_3[0][0]               \n",
      "____________________________________________________________________________________________________\n",
      "activation_4 (Activation)        (None, 43)            0           dense_2[0][0]                    \n",
      "====================================================================================================\n",
      "Total params: 424,603\n",
      "Trainable params: 424,603\n",
      "Non-trainable params: 0\n",
      "____________________________________________________________________________________________________\n"
     ]
    }
   ],
   "source": [
    "### Define your architecture here.\n",
    "### Feel free to use as many code cells as needed.\n",
    "\n",
    "model = Sequential()\n",
    "\n",
    "\n",
    "\n",
    "# first set of CONV => RELU => POOL\n",
    "model.add(Convolution2D(64, 8, 8,input_shape=( 32, 32,3), border_mode=\"valid\"))\n",
    "model.add(Activation(\"relu\"))\n",
    "model.add(AveragePooling2D(pool_size=(2,2), strides=None, border_mode='valid' ))\n",
    "\n",
    "# second set of CONV => RELU => POOL\n",
    "model.add(Convolution2D(64, 8, 8, border_mode=\"valid\"))\n",
    "model.add(Activation(\"relu\"))\n",
    "model.add(AveragePooling2D(pool_size=(2,2), strides=None, border_mode='valid' ))\n",
    "\n",
    "# set of FC => RELU layers\n",
    "model.add(Flatten())\n",
    "model.add(Dense(500))\n",
    "model.add(Dropout(0.2))\n",
    "model.add(Activation(\"relu\"))\n",
    "\n",
    "# softmax classifier\n",
    "model.add(Dense(43))\n",
    "model.add(Activation(\"softmax\"))\n",
    "\n",
    "model.summary()\n",
    "\n"
   ]
  },
  {
   "cell_type": "code",
   "execution_count": 23,
   "metadata": {
    "collapsed": true
   },
   "outputs": [],
   "source": [
    "model.compile(optimizer='adam', loss='categorical_crossentropy', metrics=['accuracy'])"
   ]
  },
  {
   "cell_type": "markdown",
   "metadata": {},
   "source": [
    "### Train, Validate and Test the Model"
   ]
  },
  {
   "cell_type": "markdown",
   "metadata": {},
   "source": [
    "A validation set can be used to assess how well the model is performing. A low accuracy on the training and validation\n",
    "sets imply underfitting. A high accuracy on the training set but low accuracy on the validation set implies overfitting."
   ]
  },
  {
   "cell_type": "code",
   "execution_count": 24,
   "metadata": {
    "collapsed": true
   },
   "outputs": [],
   "source": [
    "\n",
    "\n",
    "seed =7\n",
    "seed =random.seed(8675309)\n",
    " \n",
    "# Convert class vectors to binary class matrices.\n",
    "y_train = np_utils.to_categorical(y_train, 43)\n",
    "y_test =np_utils.to_categorical(y_test, 43)\n",
    "y_valid =np_utils.to_categorical(y_valid, 43)\n",
    "# print statistics about the dataset\n",
    "\n",
    "X_train = X_train.astype('float32')\n",
    "X_test = X_test.astype('float32')\n",
    "X_valid = X_valid.astype('float32')\n",
    "X_train /= 255\n",
    "X_test /= 255\n",
    "X_valid/=255\n",
    "#split into 67% for train and 33% for test\n",
    "#X_train, X_validation, y_train, y_validation = train_test_split(X_train, y_train, test_size=0.33, random_state=seed)\n"
   ]
  },
  {
   "cell_type": "code",
   "execution_count": 25,
   "metadata": {
    "collapsed": false
   },
   "outputs": [
    {
     "name": "stdout",
     "output_type": "stream",
     "text": [
      "Not using data augmentation.\n",
      "Train on 34799 samples, validate on 4410 samples\n",
      "Epoch 1/200\n",
      "51s - loss: 3.4225 - acc: 0.1180 - val_loss: 3.1189 - val_acc: 0.2408\n",
      "Epoch 2/200\n",
      "55s - loss: 2.6524 - acc: 0.3365 - val_loss: 2.2005 - val_acc: 0.4531\n",
      "Epoch 3/200\n",
      "51s - loss: 1.7448 - acc: 0.5332 - val_loss: 1.4418 - val_acc: 0.6376\n",
      "Epoch 4/200\n",
      "54s - loss: 1.1743 - acc: 0.6725 - val_loss: 1.0760 - val_acc: 0.7138\n",
      "Epoch 5/200\n",
      "52s - loss: 0.8886 - acc: 0.7574 - val_loss: 0.8757 - val_acc: 0.7846\n",
      "Epoch 6/200\n",
      "52s - loss: 0.6993 - acc: 0.8079 - val_loss: 0.7255 - val_acc: 0.8048\n",
      "Epoch 7/200\n",
      "54s - loss: 0.5812 - acc: 0.8403 - val_loss: 0.6497 - val_acc: 0.8299\n",
      "Epoch 8/200\n",
      "53s - loss: 0.5011 - acc: 0.8625 - val_loss: 0.6003 - val_acc: 0.8472\n",
      "Epoch 9/200\n",
      "51s - loss: 0.4433 - acc: 0.8777 - val_loss: 0.5507 - val_acc: 0.8499\n",
      "Epoch 10/200\n",
      "50s - loss: 0.3881 - acc: 0.8954 - val_loss: 0.5298 - val_acc: 0.8533\n",
      "Epoch 11/200\n",
      "48s - loss: 0.3470 - acc: 0.9069 - val_loss: 0.5157 - val_acc: 0.8610\n",
      "Epoch 12/200\n",
      "48s - loss: 0.3143 - acc: 0.9155 - val_loss: 0.5035 - val_acc: 0.8712\n",
      "Epoch 13/200\n",
      "49s - loss: 0.2872 - acc: 0.9245 - val_loss: 0.4708 - val_acc: 0.8762\n",
      "Epoch 14/200\n",
      "49s - loss: 0.2613 - acc: 0.9322 - val_loss: 0.4408 - val_acc: 0.8744\n",
      "Epoch 15/200\n",
      "49s - loss: 0.2392 - acc: 0.9367 - val_loss: 0.4405 - val_acc: 0.8762\n",
      "Epoch 16/200\n",
      "53s - loss: 0.2175 - acc: 0.9429 - val_loss: 0.4286 - val_acc: 0.8830\n",
      "Epoch 17/200\n",
      "55s - loss: 0.2031 - acc: 0.9476 - val_loss: 0.4006 - val_acc: 0.8868\n",
      "Epoch 18/200\n",
      "51s - loss: 0.1825 - acc: 0.9528 - val_loss: 0.3870 - val_acc: 0.8864\n",
      "Epoch 19/200\n",
      "51s - loss: 0.1749 - acc: 0.9551 - val_loss: 0.3933 - val_acc: 0.8925\n",
      "Epoch 20/200\n",
      "52s - loss: 0.1617 - acc: 0.9589 - val_loss: 0.3773 - val_acc: 0.8934\n",
      "Epoch 21/200\n",
      "54s - loss: 0.1513 - acc: 0.9624 - val_loss: 0.3709 - val_acc: 0.8971\n",
      "Epoch 22/200\n",
      "53s - loss: 0.1396 - acc: 0.9656 - val_loss: 0.3654 - val_acc: 0.8955\n",
      "Epoch 23/200\n",
      "52s - loss: 0.1294 - acc: 0.9683 - val_loss: 0.3765 - val_acc: 0.8914\n",
      "Epoch 24/200\n",
      "52s - loss: 0.1243 - acc: 0.9684 - val_loss: 0.3763 - val_acc: 0.8937\n",
      "Epoch 25/200\n",
      "50s - loss: 0.1133 - acc: 0.9722 - val_loss: 0.3589 - val_acc: 0.8959\n",
      "Epoch 26/200\n",
      "51s - loss: 0.1060 - acc: 0.9738 - val_loss: 0.3532 - val_acc: 0.9000\n",
      "Epoch 27/200\n",
      "51s - loss: 0.1017 - acc: 0.9761 - val_loss: 0.3491 - val_acc: 0.8995\n",
      "Epoch 28/200\n",
      "53s - loss: 0.0953 - acc: 0.9758 - val_loss: 0.3583 - val_acc: 0.9007\n",
      "Epoch 29/200\n",
      "50s - loss: 0.0931 - acc: 0.9768 - val_loss: 0.3482 - val_acc: 0.9014\n",
      "Epoch 30/200\n",
      "51s - loss: 0.0866 - acc: 0.9784 - val_loss: 0.3526 - val_acc: 0.9018\n",
      "Epoch 31/200\n",
      "52s - loss: 0.0845 - acc: 0.9791 - val_loss: 0.3298 - val_acc: 0.9086\n",
      "Epoch 32/200\n",
      "56s - loss: 0.0779 - acc: 0.9819 - val_loss: 0.3498 - val_acc: 0.9079\n",
      "Epoch 33/200\n",
      "50s - loss: 0.0763 - acc: 0.9808 - val_loss: 0.3506 - val_acc: 0.9048\n",
      "Epoch 34/200\n",
      "50s - loss: 0.0716 - acc: 0.9820 - val_loss: 0.3315 - val_acc: 0.9127\n",
      "Epoch 35/200\n",
      "52s - loss: 0.0682 - acc: 0.9835 - val_loss: 0.3233 - val_acc: 0.9120\n",
      "Epoch 36/200\n",
      "53s - loss: 0.0651 - acc: 0.9842 - val_loss: 0.3288 - val_acc: 0.9082\n",
      "Epoch 37/200\n",
      "55s - loss: 0.0642 - acc: 0.9841 - val_loss: 0.3235 - val_acc: 0.9152\n",
      "Epoch 38/200\n",
      "49s - loss: 0.0603 - acc: 0.9851 - val_loss: 0.3353 - val_acc: 0.9098\n",
      "Epoch 39/200\n",
      "48s - loss: 0.0603 - acc: 0.9853 - val_loss: 0.3375 - val_acc: 0.9100\n",
      "Epoch 40/200\n",
      "48s - loss: 0.0571 - acc: 0.9856 - val_loss: 0.3070 - val_acc: 0.9184\n",
      "Epoch 41/200\n",
      "49s - loss: 0.0520 - acc: 0.9876 - val_loss: 0.3402 - val_acc: 0.9118\n",
      "Epoch 42/200\n",
      "48s - loss: 0.0480 - acc: 0.9889 - val_loss: 0.3495 - val_acc: 0.9116\n",
      "Epoch 43/200\n",
      "48s - loss: 0.0461 - acc: 0.9894 - val_loss: 0.3199 - val_acc: 0.9175\n",
      "Epoch 44/200\n",
      "48s - loss: 0.0455 - acc: 0.9893 - val_loss: 0.3459 - val_acc: 0.9134\n",
      "Epoch 45/200\n",
      "47s - loss: 0.0456 - acc: 0.9892 - val_loss: 0.3427 - val_acc: 0.9116\n",
      "Epoch 46/200\n",
      "47s - loss: 0.0405 - acc: 0.9908 - val_loss: 0.3362 - val_acc: 0.9168\n",
      "Epoch 47/200\n",
      "47s - loss: 0.0420 - acc: 0.9895 - val_loss: 0.3229 - val_acc: 0.9222\n",
      "Epoch 48/200\n",
      "47s - loss: 0.0400 - acc: 0.9900 - val_loss: 0.3550 - val_acc: 0.9145\n",
      "Epoch 49/200\n",
      "47s - loss: 0.0370 - acc: 0.9919 - val_loss: 0.3462 - val_acc: 0.9136\n",
      "Epoch 50/200\n",
      "47s - loss: 0.0378 - acc: 0.9909 - val_loss: 0.3339 - val_acc: 0.9166\n",
      "Epoch 51/200\n",
      "47s - loss: 0.0362 - acc: 0.9914 - val_loss: 0.3616 - val_acc: 0.9122\n",
      "Epoch 52/200\n",
      "50s - loss: 0.0366 - acc: 0.9912 - val_loss: 0.3415 - val_acc: 0.9197\n",
      "Epoch 53/200\n",
      "46s - loss: 0.0326 - acc: 0.9921 - val_loss: 0.3335 - val_acc: 0.9195\n",
      "Epoch 54/200\n",
      "47s - loss: 0.0322 - acc: 0.9924 - val_loss: 0.3563 - val_acc: 0.9150\n",
      "Epoch 55/200\n",
      "46s - loss: 0.0295 - acc: 0.9924 - val_loss: 0.3444 - val_acc: 0.9195\n",
      "Epoch 56/200\n",
      "47s - loss: 0.0283 - acc: 0.9932 - val_loss: 0.3184 - val_acc: 0.9218\n",
      "Epoch 57/200\n",
      "47s - loss: 0.0290 - acc: 0.9932 - val_loss: 0.3393 - val_acc: 0.9200\n",
      "Epoch 58/200\n",
      "47s - loss: 0.0281 - acc: 0.9936 - val_loss: 0.3309 - val_acc: 0.9215\n",
      "Epoch 59/200\n",
      "51s - loss: 0.0255 - acc: 0.9943 - val_loss: 0.3695 - val_acc: 0.9136\n",
      "Epoch 60/200\n",
      "49s - loss: 0.0252 - acc: 0.9945 - val_loss: 0.3471 - val_acc: 0.9172\n",
      "Epoch 61/200\n",
      "47s - loss: 0.0240 - acc: 0.9947 - val_loss: 0.3274 - val_acc: 0.9259\n",
      "Epoch 62/200\n",
      "48s - loss: 0.0250 - acc: 0.9937 - val_loss: 0.3262 - val_acc: 0.9213\n",
      "Epoch 63/200\n",
      "50s - loss: 0.0232 - acc: 0.9944 - val_loss: 0.3450 - val_acc: 0.9206\n",
      "Epoch 64/200\n",
      "49s - loss: 0.0229 - acc: 0.9949 - val_loss: 0.3093 - val_acc: 0.9270\n",
      "Epoch 65/200\n",
      "49s - loss: 0.0221 - acc: 0.9945 - val_loss: 0.3451 - val_acc: 0.9231\n",
      "Epoch 66/200\n",
      "47s - loss: 0.0216 - acc: 0.9947 - val_loss: 0.3296 - val_acc: 0.9252\n",
      "Epoch 67/200\n",
      "47s - loss: 0.0205 - acc: 0.9949 - val_loss: 0.3187 - val_acc: 0.9288\n",
      "Epoch 68/200\n",
      "46s - loss: 0.0203 - acc: 0.9954 - val_loss: 0.3271 - val_acc: 0.9252\n",
      "Epoch 69/200\n",
      "47s - loss: 0.0214 - acc: 0.9947 - val_loss: 0.3280 - val_acc: 0.9277\n",
      "Epoch 70/200\n",
      "50s - loss: 0.0208 - acc: 0.9951 - val_loss: 0.3438 - val_acc: 0.9234\n",
      "Epoch 71/200\n",
      "49s - loss: 0.0191 - acc: 0.9954 - val_loss: 0.3465 - val_acc: 0.9186\n",
      "Epoch 72/200\n",
      "47s - loss: 0.0166 - acc: 0.9965 - val_loss: 0.3435 - val_acc: 0.9245\n",
      "Epoch 73/200\n",
      "46s - loss: 0.0180 - acc: 0.9959 - val_loss: 0.3603 - val_acc: 0.9184\n",
      "Epoch 74/200\n",
      "47s - loss: 0.0185 - acc: 0.9955 - val_loss: 0.3303 - val_acc: 0.9234\n",
      "Epoch 75/200\n",
      "47s - loss: 0.0185 - acc: 0.9955 - val_loss: 0.3662 - val_acc: 0.9197\n",
      "Epoch 76/200\n",
      "47s - loss: 0.0171 - acc: 0.9962 - val_loss: 0.3499 - val_acc: 0.9254\n",
      "Epoch 77/200\n",
      "47s - loss: 0.0165 - acc: 0.9964 - val_loss: 0.3428 - val_acc: 0.9224\n",
      "Epoch 78/200\n",
      "46s - loss: 0.0160 - acc: 0.9965 - val_loss: 0.3634 - val_acc: 0.9236\n",
      "Epoch 79/200\n",
      "46s - loss: 0.0148 - acc: 0.9966 - val_loss: 0.3637 - val_acc: 0.9243\n",
      "Epoch 80/200\n",
      "47s - loss: 0.0140 - acc: 0.9968 - val_loss: 0.3531 - val_acc: 0.9247\n",
      "Epoch 81/200\n",
      "46s - loss: 0.0137 - acc: 0.9966 - val_loss: 0.3810 - val_acc: 0.9195\n",
      "Epoch 82/200\n",
      "47s - loss: 0.0137 - acc: 0.9968 - val_loss: 0.3606 - val_acc: 0.9245\n",
      "Epoch 83/200\n",
      "47s - loss: 0.0144 - acc: 0.9966 - val_loss: 0.3490 - val_acc: 0.9243\n",
      "Epoch 84/200\n",
      "49s - loss: 0.0137 - acc: 0.9972 - val_loss: 0.3650 - val_acc: 0.9243\n",
      "Epoch 85/200\n",
      "47s - loss: 0.0139 - acc: 0.9968 - val_loss: 0.3555 - val_acc: 0.9245\n",
      "Epoch 86/200\n",
      "46s - loss: 0.0133 - acc: 0.9971 - val_loss: 0.3932 - val_acc: 0.9222\n",
      "Epoch 87/200\n",
      "47s - loss: 0.0120 - acc: 0.9976 - val_loss: 0.3523 - val_acc: 0.9274\n",
      "Epoch 88/200\n",
      "46s - loss: 0.0129 - acc: 0.9971 - val_loss: 0.3690 - val_acc: 0.9240\n",
      "Epoch 89/200\n",
      "46s - loss: 0.0122 - acc: 0.9971 - val_loss: 0.3867 - val_acc: 0.9175\n",
      "Epoch 90/200\n",
      "46s - loss: 0.0116 - acc: 0.9976 - val_loss: 0.4235 - val_acc: 0.9147\n",
      "Epoch 91/200\n",
      "49s - loss: 0.0107 - acc: 0.9978 - val_loss: 0.3689 - val_acc: 0.9236\n",
      "Epoch 92/200\n",
      "47s - loss: 0.0113 - acc: 0.9977 - val_loss: 0.3620 - val_acc: 0.9265\n",
      "Epoch 93/200\n",
      "46s - loss: 0.0117 - acc: 0.9974 - val_loss: 0.3756 - val_acc: 0.9222\n",
      "Epoch 94/200\n",
      "46s - loss: 0.0110 - acc: 0.9974 - val_loss: 0.3690 - val_acc: 0.9218\n",
      "Epoch 95/200\n",
      "46s - loss: 0.0102 - acc: 0.9979 - val_loss: 0.4100 - val_acc: 0.9188\n",
      "Epoch 96/200\n",
      "47s - loss: 0.0099 - acc: 0.9977 - val_loss: 0.3695 - val_acc: 0.9234\n",
      "Epoch 97/200\n",
      "46s - loss: 0.0098 - acc: 0.9979 - val_loss: 0.3713 - val_acc: 0.9227\n",
      "Epoch 98/200\n",
      "47s - loss: 0.0100 - acc: 0.9979 - val_loss: 0.3847 - val_acc: 0.9243\n",
      "Epoch 99/200\n",
      "46s - loss: 0.0106 - acc: 0.9977 - val_loss: 0.3726 - val_acc: 0.9236\n",
      "Epoch 100/200\n",
      "47s - loss: 0.0103 - acc: 0.9977 - val_loss: 0.3940 - val_acc: 0.9206\n",
      "Epoch 101/200\n",
      "48s - loss: 0.0114 - acc: 0.9973 - val_loss: 0.3761 - val_acc: 0.9190\n",
      "Epoch 102/200\n",
      "47s - loss: 0.0086 - acc: 0.9982 - val_loss: 0.3682 - val_acc: 0.9197\n",
      "Epoch 103/200\n",
      "47s - loss: 0.0100 - acc: 0.9977 - val_loss: 0.3560 - val_acc: 0.9227\n",
      "Epoch 104/200\n",
      "46s - loss: 0.0099 - acc: 0.9975 - val_loss: 0.3960 - val_acc: 0.9247\n",
      "Epoch 105/200\n",
      "46s - loss: 0.0098 - acc: 0.9978 - val_loss: 0.3288 - val_acc: 0.9320\n",
      "Epoch 106/200\n",
      "47s - loss: 0.0080 - acc: 0.9985 - val_loss: 0.3902 - val_acc: 0.9236\n",
      "Epoch 107/200\n",
      "46s - loss: 0.0080 - acc: 0.9983 - val_loss: 0.3614 - val_acc: 0.9254\n",
      "Epoch 108/200\n",
      "49s - loss: 0.0084 - acc: 0.9985 - val_loss: 0.3419 - val_acc: 0.9274\n",
      "Epoch 109/200\n",
      "47s - loss: 0.0092 - acc: 0.9979 - val_loss: 0.3788 - val_acc: 0.9188\n",
      "Epoch 110/200\n",
      "47s - loss: 0.0082 - acc: 0.9982 - val_loss: 0.4396 - val_acc: 0.9150\n",
      "Epoch 111/200\n",
      "48s - loss: 0.0078 - acc: 0.9984 - val_loss: 0.3595 - val_acc: 0.9247\n",
      "Epoch 112/200\n",
      "48s - loss: 0.0083 - acc: 0.9983 - val_loss: 0.4080 - val_acc: 0.9231\n",
      "Epoch 113/200\n",
      "46s - loss: 0.0094 - acc: 0.9977 - val_loss: 0.4067 - val_acc: 0.9238\n",
      "Epoch 114/200\n",
      "46s - loss: 0.0093 - acc: 0.9982 - val_loss: 0.3723 - val_acc: 0.9245\n",
      "Epoch 115/200\n",
      "46s - loss: 0.0083 - acc: 0.9982 - val_loss: 0.4035 - val_acc: 0.9238\n",
      "Epoch 116/200\n",
      "47s - loss: 0.0086 - acc: 0.9978 - val_loss: 0.3453 - val_acc: 0.9281\n",
      "Epoch 117/200\n",
      "48s - loss: 0.0085 - acc: 0.9984 - val_loss: 0.3448 - val_acc: 0.9315\n",
      "Epoch 118/200\n",
      "46s - loss: 0.0079 - acc: 0.9986 - val_loss: 0.3546 - val_acc: 0.9288\n",
      "Epoch 119/200\n",
      "46s - loss: 0.0072 - acc: 0.9986 - val_loss: 0.3981 - val_acc: 0.9236\n",
      "Epoch 120/200\n",
      "47s - loss: 0.0067 - acc: 0.9987 - val_loss: 0.3803 - val_acc: 0.9263\n",
      "Epoch 121/200\n",
      "46s - loss: 0.0061 - acc: 0.9989 - val_loss: 0.4032 - val_acc: 0.9261\n",
      "Epoch 122/200\n",
      "50s - loss: 0.0058 - acc: 0.9990 - val_loss: 0.3654 - val_acc: 0.9302\n",
      "Epoch 123/200\n",
      "46s - loss: 0.0064 - acc: 0.9988 - val_loss: 0.3879 - val_acc: 0.9268\n",
      "Epoch 124/200\n",
      "47s - loss: 0.0072 - acc: 0.9985 - val_loss: 0.3834 - val_acc: 0.9245\n",
      "Epoch 125/200\n",
      "47s - loss: 0.0062 - acc: 0.9989 - val_loss: 0.3638 - val_acc: 0.9293\n",
      "Epoch 126/200\n",
      "49s - loss: 0.0067 - acc: 0.9988 - val_loss: 0.3723 - val_acc: 0.9277\n",
      "Epoch 127/200\n",
      "47s - loss: 0.0074 - acc: 0.9982 - val_loss: 0.3511 - val_acc: 0.9311\n",
      "Epoch 128/200\n",
      "46s - loss: 0.0068 - acc: 0.9986 - val_loss: 0.3573 - val_acc: 0.9279\n",
      "Epoch 129/200\n",
      "47s - loss: 0.0063 - acc: 0.9987 - val_loss: 0.4032 - val_acc: 0.9252\n",
      "Epoch 130/200\n",
      "46s - loss: 0.0061 - acc: 0.9988 - val_loss: 0.4000 - val_acc: 0.9240\n",
      "Epoch 131/200\n",
      "46s - loss: 0.0052 - acc: 0.9993 - val_loss: 0.3744 - val_acc: 0.9283\n",
      "Epoch 132/200\n",
      "47s - loss: 0.0059 - acc: 0.9987 - val_loss: 0.4089 - val_acc: 0.9245\n",
      "Epoch 133/200\n",
      "47s - loss: 0.0070 - acc: 0.9983 - val_loss: 0.4105 - val_acc: 0.9215\n",
      "Epoch 134/200\n",
      "49s - loss: 0.0064 - acc: 0.9989 - val_loss: 0.4049 - val_acc: 0.9211\n",
      "Epoch 135/200\n",
      "50s - loss: 0.0070 - acc: 0.9984 - val_loss: 0.3928 - val_acc: 0.9265\n",
      "Epoch 136/200\n",
      "47s - loss: 0.0059 - acc: 0.9990 - val_loss: 0.3799 - val_acc: 0.9297\n",
      "Epoch 137/200\n",
      "47s - loss: 0.0075 - acc: 0.9982 - val_loss: 0.4069 - val_acc: 0.9274\n",
      "Epoch 138/200\n",
      "46s - loss: 0.0089 - acc: 0.9976 - val_loss: 0.4253 - val_acc: 0.9272\n",
      "Epoch 139/200\n",
      "47s - loss: 0.0070 - acc: 0.9985 - val_loss: 0.4043 - val_acc: 0.9252\n",
      "Epoch 140/200\n",
      "48s - loss: 0.0072 - acc: 0.9983 - val_loss: 0.3941 - val_acc: 0.9215\n",
      "Epoch 141/200\n",
      "46s - loss: 0.0067 - acc: 0.9986 - val_loss: 0.3988 - val_acc: 0.9281\n",
      "Epoch 142/200\n",
      "49s - loss: 0.0065 - acc: 0.9986 - val_loss: 0.3505 - val_acc: 0.9295\n",
      "Epoch 143/200\n",
      "49s - loss: 0.0057 - acc: 0.9989 - val_loss: 0.3695 - val_acc: 0.9311\n",
      "Epoch 144/200\n",
      "48s - loss: 0.0055 - acc: 0.9990 - val_loss: 0.3902 - val_acc: 0.9281\n",
      "Epoch 145/200\n",
      "47s - loss: 0.0053 - acc: 0.9991 - val_loss: 0.3570 - val_acc: 0.9336\n",
      "Epoch 146/200\n",
      "46s - loss: 0.0058 - acc: 0.9991 - val_loss: 0.3759 - val_acc: 0.9263\n",
      "Epoch 147/200\n",
      "46s - loss: 0.0052 - acc: 0.9991 - val_loss: 0.4055 - val_acc: 0.9261\n",
      "Epoch 148/200\n",
      "46s - loss: 0.0052 - acc: 0.9990 - val_loss: 0.4052 - val_acc: 0.9270\n",
      "Epoch 149/200\n",
      "52s - loss: 0.0055 - acc: 0.9988 - val_loss: 0.4078 - val_acc: 0.9286\n",
      "Epoch 150/200\n",
      "48s - loss: 0.0046 - acc: 0.9993 - val_loss: 0.4186 - val_acc: 0.9245\n",
      "Epoch 151/200\n",
      "50s - loss: 0.0047 - acc: 0.9991 - val_loss: 0.4015 - val_acc: 0.9313\n",
      "Epoch 152/200\n",
      "48s - loss: 0.0043 - acc: 0.9993 - val_loss: 0.3754 - val_acc: 0.9338\n",
      "Epoch 153/200\n",
      "46s - loss: 0.0046 - acc: 0.9992 - val_loss: 0.4422 - val_acc: 0.9222\n",
      "Epoch 154/200\n",
      "46s - loss: 0.0054 - acc: 0.9988 - val_loss: 0.3916 - val_acc: 0.9324\n",
      "Epoch 155/200\n",
      "47s - loss: 0.0053 - acc: 0.9989 - val_loss: 0.4155 - val_acc: 0.9268\n",
      "Epoch 156/200\n",
      "47s - loss: 0.0052 - acc: 0.9989 - val_loss: 0.4117 - val_acc: 0.9270\n",
      "Epoch 157/200\n",
      "49s - loss: 0.0062 - acc: 0.9987 - val_loss: 0.4107 - val_acc: 0.9274\n",
      "Epoch 158/200\n",
      "47s - loss: 0.0053 - acc: 0.9990 - val_loss: 0.3792 - val_acc: 0.9295\n",
      "Epoch 159/200\n",
      "46s - loss: 0.0051 - acc: 0.9991 - val_loss: 0.3802 - val_acc: 0.9288\n",
      "Epoch 160/200\n",
      "47s - loss: 0.0052 - acc: 0.9989 - val_loss: 0.3618 - val_acc: 0.9363\n",
      "Epoch 161/200\n",
      "49s - loss: 0.0053 - acc: 0.9989 - val_loss: 0.4030 - val_acc: 0.9293\n",
      "Epoch 162/200\n",
      "47s - loss: 0.0050 - acc: 0.9990 - val_loss: 0.3921 - val_acc: 0.9315\n",
      "Epoch 163/200\n",
      "46s - loss: 0.0064 - acc: 0.9988 - val_loss: 0.4098 - val_acc: 0.9270\n",
      "Epoch 164/200\n",
      "46s - loss: 0.0063 - acc: 0.9987 - val_loss: 0.3977 - val_acc: 0.9261\n",
      "Epoch 165/200\n",
      "47s - loss: 0.0045 - acc: 0.9993 - val_loss: 0.3634 - val_acc: 0.9306\n",
      "Epoch 166/200\n",
      "49s - loss: 0.0042 - acc: 0.9993 - val_loss: 0.3779 - val_acc: 0.9320\n",
      "Epoch 167/200\n",
      "48s - loss: 0.0040 - acc: 0.9993 - val_loss: 0.3693 - val_acc: 0.9322\n",
      "Epoch 168/200\n",
      "51s - loss: 0.0049 - acc: 0.9991 - val_loss: 0.3937 - val_acc: 0.9265\n",
      "Epoch 169/200\n",
      "48s - loss: 0.0078 - acc: 0.9982 - val_loss: 0.3944 - val_acc: 0.9293\n",
      "Epoch 170/200\n",
      "47s - loss: 0.0062 - acc: 0.9986 - val_loss: 0.3632 - val_acc: 0.9313\n",
      "Epoch 171/200\n",
      "46s - loss: 0.0062 - acc: 0.9989 - val_loss: 0.3900 - val_acc: 0.9297\n",
      "Epoch 172/200\n",
      "47s - loss: 0.0057 - acc: 0.9987 - val_loss: 0.3660 - val_acc: 0.9295\n",
      "Epoch 173/200\n",
      "47s - loss: 0.0051 - acc: 0.9991 - val_loss: 0.3880 - val_acc: 0.9315\n",
      "Epoch 174/200\n",
      "47s - loss: 0.0052 - acc: 0.9989 - val_loss: 0.4556 - val_acc: 0.9234\n",
      "Epoch 175/200\n",
      "47s - loss: 0.0063 - acc: 0.9983 - val_loss: 0.3917 - val_acc: 0.9256\n",
      "Epoch 176/200\n",
      "48s - loss: 0.0051 - acc: 0.9990 - val_loss: 0.3801 - val_acc: 0.9308\n",
      "Epoch 177/200\n",
      "47s - loss: 0.0042 - acc: 0.9994 - val_loss: 0.4215 - val_acc: 0.9231\n",
      "Epoch 178/200\n",
      "49s - loss: 0.0037 - acc: 0.9995 - val_loss: 0.3596 - val_acc: 0.9338\n",
      "Epoch 179/200\n",
      "46s - loss: 0.0035 - acc: 0.9995 - val_loss: 0.4255 - val_acc: 0.9274\n",
      "Epoch 180/200\n",
      "49s - loss: 0.0036 - acc: 0.9995 - val_loss: 0.4006 - val_acc: 0.9345\n",
      "Epoch 181/200\n",
      "47s - loss: 0.0040 - acc: 0.9991 - val_loss: 0.3871 - val_acc: 0.9322\n",
      "Epoch 182/200\n",
      "47s - loss: 0.0039 - acc: 0.9993 - val_loss: 0.4213 - val_acc: 0.9302\n",
      "Epoch 183/200\n",
      "46s - loss: 0.0055 - acc: 0.9987 - val_loss: 0.3711 - val_acc: 0.9313\n",
      "Epoch 184/200\n",
      "46s - loss: 0.0045 - acc: 0.9991 - val_loss: 0.4300 - val_acc: 0.9238\n",
      "Epoch 185/200\n",
      "49s - loss: 0.0047 - acc: 0.9992 - val_loss: 0.4057 - val_acc: 0.9288\n",
      "Epoch 186/200\n",
      "47s - loss: 0.0046 - acc: 0.9988 - val_loss: 0.3808 - val_acc: 0.9320\n",
      "Epoch 187/200\n",
      "50s - loss: 0.0038 - acc: 0.9994 - val_loss: 0.4201 - val_acc: 0.9270\n",
      "Epoch 188/200\n",
      "52s - loss: 0.0035 - acc: 0.9996 - val_loss: 0.4294 - val_acc: 0.9320\n",
      "Epoch 189/200\n",
      "53s - loss: 0.0037 - acc: 0.9995 - val_loss: 0.3803 - val_acc: 0.9313\n",
      "Epoch 190/200\n",
      "48s - loss: 0.0030 - acc: 0.9996 - val_loss: 0.4016 - val_acc: 0.9345\n",
      "Epoch 191/200\n",
      "48s - loss: 0.0030 - acc: 0.9995 - val_loss: 0.4079 - val_acc: 0.9302\n",
      "Epoch 192/200\n",
      "47s - loss: 0.0033 - acc: 0.9995 - val_loss: 0.4429 - val_acc: 0.9270\n",
      "Epoch 193/200\n",
      "48s - loss: 0.0036 - acc: 0.9994 - val_loss: 0.4513 - val_acc: 0.9245\n",
      "Epoch 194/200\n",
      "47s - loss: 0.0031 - acc: 0.9996 - val_loss: 0.4009 - val_acc: 0.9340\n",
      "Epoch 195/200\n",
      "50s - loss: 0.0033 - acc: 0.9994 - val_loss: 0.4469 - val_acc: 0.9281\n",
      "Epoch 196/200\n",
      "50s - loss: 0.0070 - acc: 0.9983 - val_loss: 0.4217 - val_acc: 0.9256\n",
      "Epoch 197/200\n",
      "49s - loss: 0.0111 - acc: 0.9974 - val_loss: 0.4083 - val_acc: 0.9286\n",
      "Epoch 198/200\n",
      "47s - loss: 0.0072 - acc: 0.9980 - val_loss: 0.3601 - val_acc: 0.9338\n",
      "Epoch 199/200\n",
      "47s - loss: 0.0060 - acc: 0.9988 - val_loss: 0.3664 - val_acc: 0.9340\n",
      "Epoch 200/200\n",
      "49s - loss: 0.0069 - acc: 0.9986 - val_loss: 0.4154 - val_acc: 0.9270\n"
     ]
    }
   ],
   "source": [
    "\n",
    "batch_size=2000\n",
    "data_augmentation= False\n",
    "epoch=200\n",
    "\n",
    "if not data_augmentation:\n",
    "    print('Not using data augmentation.')\n",
    "    model.fit(X_train, y_train,\n",
    "              batch_size=batch_size,\n",
    "              nb_epoch=epoch,\n",
    "              validation_data=(X_valid, y_valid),\n",
    "              shuffle=True ,verbose=2)\n",
    "else:\n",
    "    \n",
    "    model.fit_generator(datagen.flow(X_train, y_train,shuffle=False,\n",
    "                                     batch_size=2),\n",
    "                        samples_per_epoch= 10,\n",
    "                        nb_epoch=epoch,\n",
    "                        validation_data=(X_valid, y_valid),verbose=2)"
   ]
  },
  {
   "cell_type": "code",
   "execution_count": null,
   "metadata": {
    "collapsed": false
   },
   "outputs": [],
   "source": [
    "# evaluate the model on test data\n",
    "scores = model.evaluate(X_test, y_test, verbose=0)\n",
    "print(\"%s: %.2f%%\" % (model.metrics_names[1], scores[1]*100))\n",
    " \n",
    "# serialize model to JSON\n",
    "model_json = model.to_json()\n",
    "with open(\"model.json\", \"w\") as json_file:\n",
    "    json_file.write(model_json)\n",
    "# serialize weights to HDF5\n",
    "model.save_weights(\"model.h5\")\n",
    "print(\"Saved model to disk\")\n",
    " \n",
    "# later...\n",
    " \n",
    "# load json and create model\n",
    "json_file = open('model.json', 'r')\n",
    "loaded_model_json = json_file.read()\n",
    "json_file.close()\n",
    "loaded_model = model_from_json(loaded_model_json)\n",
    "# load weights into new model\n",
    "loaded_model.load_weights(\"model.h5\")\n",
    "print(\"Loaded model from disk\")"
   ]
  },
  {
   "cell_type": "markdown",
   "metadata": {},
   "source": [
    "---\n",
    "\n",
    "## Step 3: Test a Model on New Images\n",
    "\n",
    "To give yourself more insight into how your model is working, download at least five pictures of German traffic signs from the web and use your model to predict the traffic sign type.\n",
    "\n",
    "You may find `signnames.csv` useful as it contains mappings from the class id (integer) to the actual sign name."
   ]
  },
  {
   "cell_type": "markdown",
   "metadata": {},
   "source": [
    "### Load and Output the Images"
   ]
  },
  {
   "cell_type": "code",
   "execution_count": 27,
   "metadata": {
    "collapsed": true
   },
   "outputs": [],
   "source": [
    "### Load the images and plot them here.\n",
    "### Feel free to use as many code cells as needed."
   ]
  },
  {
   "cell_type": "code",
   "execution_count": null,
   "metadata": {
    "collapsed": true
   },
   "outputs": [],
   "source": []
  },
  {
   "cell_type": "code",
   "execution_count": null,
   "metadata": {
    "collapsed": true
   },
   "outputs": [],
   "source": []
  },
  {
   "cell_type": "markdown",
   "metadata": {},
   "source": [
    "### Predict the Sign Type for Each Image"
   ]
  },
  {
   "cell_type": "code",
   "execution_count": 28,
   "metadata": {
    "collapsed": true
   },
   "outputs": [],
   "source": [
    "### Run the predictions here and use the model to output the prediction for each image.\n",
    "### Make sure to pre-process the images with the same pre-processing pipeline used earlier.\n",
    "### Feel free to use as many code cells as needed."
   ]
  },
  {
   "cell_type": "markdown",
   "metadata": {},
   "source": [
    "### Analyze Performance"
   ]
  },
  {
   "cell_type": "code",
   "execution_count": 29,
   "metadata": {
    "collapsed": true
   },
   "outputs": [],
   "source": [
    "### Calculate the accuracy for these 5 new images. \n",
    "### For example, if the model predicted 1 out of 5 signs correctly, it's 20% accurate on these new images."
   ]
  },
  {
   "cell_type": "markdown",
   "metadata": {},
   "source": [
    "### Output Top 5 Softmax Probabilities For Each Image Found on the Web"
   ]
  },
  {
   "cell_type": "markdown",
   "metadata": {},
   "source": [
    "        For each of the new images, print out the model's softmax probabilities to show the **certainty** of the model's predictions (limit the output to the top 5 probabilities for each image). [`tf.nn.top_k`](https://www.tensorflow.org/versions/r0.12/api_docs/python/nn.html#top_k) could prove helpful here. \n",
    "\n",
    "The example below demonstrates how tf.nn.top_k can be used to find the top k predictions for each image.\n",
    "\n",
    "`tf.nn.top_k` will return the values and indices (class ids) of the top k predictions. So if k=3, for each sign, it'll return the 3 largest probabilities (out of a possible 43) and the correspoding class ids.\n",
    "\n",
    "Take this numpy array as an example. The values in the array represent predictions. The array contains softmax probabilities for five candidate images with six possible classes. `tk.nn.top_k` is used to choose the three classes with the highest probability:\n",
    "\n",
    "```\n",
    "# (5, 6) array\n",
    "a = np.array([[ 0.24879643,  0.07032244,  0.12641572,  0.34763842,  0.07893497,\n",
    "         0.12789202],\n",
    "       [ 0.28086119,  0.27569815,  0.08594638,  0.0178669 ,  0.18063401,\n",
    "         0.15899337],\n",
    "       [ 0.26076848,  0.23664738,  0.08020603,  0.07001922,  0.1134371 ,\n",
    "         0.23892179],\n",
    "       [ 0.11943333,  0.29198961,  0.02605103,  0.26234032,  0.1351348 ,\n",
    "         0.16505091],\n",
    "       [ 0.09561176,  0.34396535,  0.0643941 ,  0.16240774,  0.24206137,\n",
    "         0.09155967]])\n",
    "```\n",
    "\n",
    "Running it through `sess.run(tf.nn.top_k(tf.constant(a), k=3))` produces:\n",
    "\n",
    "```\n",
    "TopKV2(values=array([[ 0.34763842,  0.24879643,  0.12789202],\n",
    "       [ 0.28086119,  0.27569815,  0.18063401],\n",
    "       [ 0.26076848,  0.23892179,  0.23664738],\n",
    "       [ 0.29198961,  0.26234032,  0.16505091],\n",
    "       [ 0.34396535,  0.24206137,  0.16240774]]), indices=array([[3, 0, 5],\n",
    "       [0, 1, 4],\n",
    "       [0, 5, 1],\n",
    "       [1, 3, 5],\n",
    "       [1, 4, 3]], dtype=int32))\n",
    "```\n",
    "\n",
    "Looking just at the first row we get `[ 0.34763842,  0.24879643,  0.12789202]`, you can confirm these are the 3 largest probabilities in `a`. You'll also notice `[3, 0, 5]` are the corresponding indices."
   ]
  },
  {
   "cell_type": "code",
   "execution_count": 30,
   "metadata": {
    "collapsed": true
   },
   "outputs": [],
   "source": [
    "### Print out the top five softmax probabilities for the predictions on the German traffic sign images found on the web. \n",
    "### Feel free to use as many code cells as needed."
   ]
  },
  {
   "cell_type": "markdown",
   "metadata": {},
   "source": [
    "---\n",
    "\n",
    "## Step 4: Visualize the Neural Network's State with Test Images\n",
    "\n",
    " This Section is not required to complete but acts as an additional excersise for understaning the output of a neural network's weights. While neural networks can be a great learning device they are often referred to as a black box. We can understand what the weights of a neural network look like better by plotting their feature maps. After successfully training your neural network you can see what it's feature maps look like by plotting the output of the network's weight layers in response to a test stimuli image. From these plotted feature maps, it's possible to see what characteristics of an image the network finds interesting. For a sign, maybe the inner network feature maps react with high activation to the sign's boundary outline or to the contrast in the sign's painted symbol.\n",
    "\n",
    " Provided for you below is the function code that allows you to get the visualization output of any tensorflow weight layer you want. The inputs to the function should be a stimuli image, one used during training or a new one you provided, and then the tensorflow variable name that represents the layer's state during the training process, for instance if you wanted to see what the [LeNet lab's](https://classroom.udacity.com/nanodegrees/nd013/parts/fbf77062-5703-404e-b60c-95b78b2f3f9e/modules/6df7ae49-c61c-4bb2-a23e-6527e69209ec/lessons/601ae704-1035-4287-8b11-e2c2716217ad/concepts/d4aca031-508f-4e0b-b493-e7b706120f81) feature maps looked like for it's second convolutional layer you could enter conv2 as the tf_activation variable.\n",
    "\n",
    "For an example of what feature map outputs look like, check out NVIDIA's results in their paper [End-to-End Deep Learning for Self-Driving Cars](https://devblogs.nvidia.com/parallelforall/deep-learning-self-driving-cars/) in the section Visualization of internal CNN State. NVIDIA was able to show that their network's inner weights had high activations to road boundary lines by comparing feature maps from an image with a clear path to one without. Try experimenting with a similar test to show that your trained network's weights are looking for interesting features, whether it's looking at differences in feature maps from images with or without a sign, or even what feature maps look like in a trained network vs a completely untrained one on the same sign image.\n",
    "\n",
    "<figure>\n",
    " <img src=\"visualize_cnn.png\" width=\"380\" alt=\"Combined Image\" />\n",
    " <figcaption>\n",
    " <p></p> \n",
    " <p style=\"text-align: center;\"> Your output should look something like this (above)</p> \n",
    " </figcaption>\n",
    "</figure>\n",
    " <p></p> \n"
   ]
  },
  {
   "cell_type": "code",
   "execution_count": 31,
   "metadata": {
    "collapsed": true
   },
   "outputs": [],
   "source": [
    "### Visualize your network's feature maps here.\n",
    "### Feel free to use as many code cells as needed.\n",
    "\n",
    "# image_input: the test image being fed into the network to produce the feature maps\n",
    "# tf_activation: should be a tf variable name used during your training procedure that represents the calculated state of a specific weight layer\n",
    "# activation_min/max: can be used to view the activation contrast in more detail, by default matplot sets min and max to the actual min and max values of the output\n",
    "# plt_num: used to plot out multiple different weight feature map sets on the same block, just extend the plt number for each new feature map entry\n",
    "\n",
    "def outputFeatureMap(image_input, tf_activation, activation_min=-1, activation_max=-1 ,plt_num=1):\n",
    "    # Here make sure to preprocess your image_input in a way your network expects\n",
    "    # with size, normalization, ect if needed\n",
    "    # image_input =\n",
    "    # Note: x should be the same name as your network's tensorflow data placeholder variable\n",
    "    # If you get an error tf_activation is not defined it maybe having trouble accessing the variable from inside a function\n",
    "    activation = tf_activation.eval(session=sess,feed_dict={x : image_input})\n",
    "    featuremaps = activation.shape[3]\n",
    "    plt.figure(plt_num, figsize=(15,15))\n",
    "    for featuremap in range(featuremaps):\n",
    "        plt.subplot(6,8, featuremap+1) # sets the number of feature maps to show on each row and column\n",
    "        plt.title('FeatureMap ' + str(featuremap)) # displays the feature map number\n",
    "        if activation_min != -1 & activation_max != -1:\n",
    "            plt.imshow(activation[0,:,:, featuremap], interpolation=\"nearest\", vmin =activation_min, vmax=activation_max, cmap=\"gray\")\n",
    "        elif activation_max != -1:\n",
    "            plt.imshow(activation[0,:,:, featuremap], interpolation=\"nearest\", vmax=activation_max, cmap=\"gray\")\n",
    "        elif activation_min !=-1:\n",
    "            plt.imshow(activation[0,:,:, featuremap], interpolation=\"nearest\", vmin=activation_min, cmap=\"gray\")\n",
    "        else:\n",
    "            plt.imshow(activation[0,:,:, featuremap], interpolation=\"nearest\", cmap=\"gray\")"
   ]
  },
  {
   "cell_type": "markdown",
   "metadata": {},
   "source": [
    "### Question 9\n",
    "\n",
    "Discuss how you used the visual output of your trained network's feature maps to show that it had learned to look for interesting characteristics in traffic sign images\n"
   ]
  },
  {
   "cell_type": "markdown",
   "metadata": {},
   "source": [
    "**Answer:**"
   ]
  },
  {
   "cell_type": "markdown",
   "metadata": {},
   "source": [
    "> **Note**: Once you have completed all of the code implementations and successfully answered each question above, you may finalize your work by exporting the iPython Notebook as an HTML document. You can do this by using the menu above and navigating to  \\n\",\n",
    "    \"**File -> Download as -> HTML (.html)**. Include the finished document along with this notebook as your submission."
   ]
  },
  {
   "cell_type": "markdown",
   "metadata": {},
   "source": [
    "### Project Writeup\n",
    "\n",
    "Once you have completed the code implementation, document your results in a project writeup using this [template](https://github.com/udacity/CarND-Traffic-Sign-Classifier-Project/blob/master/writeup_template.md) as a guide. The writeup can be in a markdown or pdf file. "
   ]
  }
 ],
 "metadata": {
  "anaconda-cloud": {},
  "kernelspec": {
   "display_name": "Python [conda env:carnd-term1]",
   "language": "python",
   "name": "conda-env-carnd-term1-py"
  },
  "language_info": {
   "codemirror_mode": {
    "name": "ipython",
    "version": 3
   },
   "file_extension": ".py",
   "mimetype": "text/x-python",
   "name": "python",
   "nbconvert_exporter": "python",
   "pygments_lexer": "ipython3",
   "version": "3.5.2"
  }
 },
 "nbformat": 4,
 "nbformat_minor": 1
}
